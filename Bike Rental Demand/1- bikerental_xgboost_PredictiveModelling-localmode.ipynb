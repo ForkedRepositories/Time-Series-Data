{
 "cells": [
  {
   "cell_type": "markdown",
   "metadata": {
    "colab_type": "text",
    "id": "TVEIfkOFHbXo"
   },
   "source": [
    "## Train a model with bike rental data using XGBoost algorithm\n",
    "###  Model is trained with XGBoost installed in notebook instance"
   ]
  },
  {
   "cell_type": "code",
   "execution_count": 1,
   "metadata": {
    "colab": {},
    "colab_type": "code",
    "id": "cpPBorkAHbXq"
   },
   "outputs": [],
   "source": [
    "# Install xgboost in notebook instance.\n",
    "#### Command to install xgboost\n",
    "# !conda install -y -c conda-forge xgboost\n",
    "# !pip install xgboost==0.90"
   ]
  },
  {
   "cell_type": "code",
   "execution_count": 2,
   "metadata": {
    "colab": {},
    "colab_type": "code",
    "id": "5VHdZaQNHbX1"
   },
   "outputs": [],
   "source": [
    "import sys\n",
    "import numpy as np\n",
    "import pandas as pd\n",
    "import matplotlib.pyplot as plt\n",
    "from sklearn.metrics import mean_squared_error, mean_absolute_error\n",
    "\n",
    "# XGBoost \n",
    "import xgboost as xgb"
   ]
  },
  {
   "cell_type": "code",
   "execution_count": 3,
   "metadata": {
    "colab": {
     "base_uri": "https://localhost:8080/",
     "height": 210,
     "resources": {
      "http://localhost:8080/nbextensions/google.colab/files.js": {
       "data": "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",
       "headers": [
        [
         "content-type",
         "application/javascript"
        ]
       ],
       "ok": true,
       "status": 200,
       "status_text": ""
      }
     }
    },
    "colab_type": "code",
    "executionInfo": {
     "elapsed": 27770,
     "status": "ok",
     "timestamp": 1591122997436,
     "user": {
      "displayName": "Robins Yadav",
      "photoUrl": "",
      "userId": "09341548175987336254"
     },
     "user_tz": 420
    },
    "id": "SvGKDrR3Hye5",
    "outputId": "0f3bd683-9713-40b5-bc26-415bf8eccfc5"
   },
   "outputs": [],
   "source": [
    "# ## load the data\n",
    "# from google.colab import files\n",
    "# uploaded = files.upload()"
   ]
  },
  {
   "cell_type": "code",
   "execution_count": 4,
   "metadata": {
    "colab": {
     "base_uri": "https://localhost:8080/",
     "height": 255
    },
    "colab_type": "code",
    "executionInfo": {
     "elapsed": 642,
     "status": "ok",
     "timestamp": 1591123065787,
     "user": {
      "displayName": "Robins Yadav",
      "photoUrl": "",
      "userId": "09341548175987336254"
     },
     "user_tz": 420
    },
    "id": "5Ts8zFq0HbX_",
    "outputId": "1f3d148c-2eb5-4ff5-e8ca-9e31d2399012"
   },
   "outputs": [
    {
     "data": {
      "text/plain": [
       "['count',\n",
       " 'season',\n",
       " 'holiday',\n",
       " 'workingday',\n",
       " 'weather',\n",
       " 'temp',\n",
       " 'atemp',\n",
       " 'humidity',\n",
       " 'windspeed',\n",
       " 'year',\n",
       " 'month',\n",
       " 'day',\n",
       " 'dayofweek',\n",
       " 'hour']"
      ]
     },
     "execution_count": 4,
     "metadata": {},
     "output_type": "execute_result"
    }
   ],
   "source": [
    "## check for columns name\n",
    "column_list_file = 'rob_bike_train_column_list.txt'\n",
    "columns = ''\n",
    "with open(column_list_file,'r') as f:\n",
    "    columns = f.read().split(',')\n",
    "\n",
    "columns"
   ]
  },
  {
   "cell_type": "code",
   "execution_count": 5,
   "metadata": {
    "colab": {
     "base_uri": "https://localhost:8080/",
     "height": 391
    },
    "colab_type": "code",
    "executionInfo": {
     "elapsed": 742,
     "status": "ok",
     "timestamp": 1591123068490,
     "user": {
      "displayName": "Robins Yadav",
      "photoUrl": "",
      "userId": "09341548175987336254"
     },
     "user_tz": 420
    },
    "id": "v2uOZ04KHbYU",
    "outputId": "241d9863-bbeb-4f8c-8f0e-eedb09e23131"
   },
   "outputs": [
    {
     "data": {
      "text/html": [
       "<div>\n",
       "<style scoped>\n",
       "    .dataframe tbody tr th:only-of-type {\n",
       "        vertical-align: middle;\n",
       "    }\n",
       "\n",
       "    .dataframe tbody tr th {\n",
       "        vertical-align: top;\n",
       "    }\n",
       "\n",
       "    .dataframe thead th {\n",
       "        text-align: right;\n",
       "    }\n",
       "</style>\n",
       "<table border=\"1\" class=\"dataframe\">\n",
       "  <thead>\n",
       "    <tr style=\"text-align: right;\">\n",
       "      <th></th>\n",
       "      <th>count</th>\n",
       "      <th>season</th>\n",
       "      <th>holiday</th>\n",
       "      <th>workingday</th>\n",
       "      <th>weather</th>\n",
       "      <th>temp</th>\n",
       "      <th>atemp</th>\n",
       "      <th>humidity</th>\n",
       "      <th>windspeed</th>\n",
       "      <th>year</th>\n",
       "      <th>month</th>\n",
       "      <th>day</th>\n",
       "      <th>dayofweek</th>\n",
       "      <th>hour</th>\n",
       "    </tr>\n",
       "  </thead>\n",
       "  <tbody>\n",
       "    <tr>\n",
       "      <th>0</th>\n",
       "      <td>4.477337</td>\n",
       "      <td>3</td>\n",
       "      <td>0</td>\n",
       "      <td>0</td>\n",
       "      <td>2</td>\n",
       "      <td>26.24</td>\n",
       "      <td>30.305</td>\n",
       "      <td>73</td>\n",
       "      <td>7.0015</td>\n",
       "      <td>2011</td>\n",
       "      <td>9</td>\n",
       "      <td>3</td>\n",
       "      <td>5</td>\n",
       "      <td>0</td>\n",
       "    </tr>\n",
       "    <tr>\n",
       "      <th>1</th>\n",
       "      <td>5.517453</td>\n",
       "      <td>3</td>\n",
       "      <td>0</td>\n",
       "      <td>1</td>\n",
       "      <td>1</td>\n",
       "      <td>32.80</td>\n",
       "      <td>34.850</td>\n",
       "      <td>33</td>\n",
       "      <td>7.0015</td>\n",
       "      <td>2012</td>\n",
       "      <td>8</td>\n",
       "      <td>13</td>\n",
       "      <td>0</td>\n",
       "      <td>14</td>\n",
       "    </tr>\n",
       "    <tr>\n",
       "      <th>2</th>\n",
       "      <td>5.814131</td>\n",
       "      <td>4</td>\n",
       "      <td>0</td>\n",
       "      <td>0</td>\n",
       "      <td>1</td>\n",
       "      <td>15.58</td>\n",
       "      <td>19.695</td>\n",
       "      <td>40</td>\n",
       "      <td>11.0014</td>\n",
       "      <td>2011</td>\n",
       "      <td>11</td>\n",
       "      <td>5</td>\n",
       "      <td>5</td>\n",
       "      <td>17</td>\n",
       "    </tr>\n",
       "    <tr>\n",
       "      <th>3</th>\n",
       "      <td>6.436150</td>\n",
       "      <td>3</td>\n",
       "      <td>0</td>\n",
       "      <td>1</td>\n",
       "      <td>1</td>\n",
       "      <td>32.80</td>\n",
       "      <td>37.880</td>\n",
       "      <td>55</td>\n",
       "      <td>12.9980</td>\n",
       "      <td>2012</td>\n",
       "      <td>8</td>\n",
       "      <td>9</td>\n",
       "      <td>3</td>\n",
       "      <td>19</td>\n",
       "    </tr>\n",
       "    <tr>\n",
       "      <th>4</th>\n",
       "      <td>4.262680</td>\n",
       "      <td>2</td>\n",
       "      <td>0</td>\n",
       "      <td>1</td>\n",
       "      <td>1</td>\n",
       "      <td>13.94</td>\n",
       "      <td>17.425</td>\n",
       "      <td>76</td>\n",
       "      <td>7.0015</td>\n",
       "      <td>2011</td>\n",
       "      <td>4</td>\n",
       "      <td>14</td>\n",
       "      <td>3</td>\n",
       "      <td>6</td>\n",
       "    </tr>\n",
       "  </tbody>\n",
       "</table>\n",
       "</div>"
      ],
      "text/plain": [
       "      count  season  holiday  workingday  weather   temp   atemp  humidity  \\\n",
       "0  4.477337       3        0           0        2  26.24  30.305        73   \n",
       "1  5.517453       3        0           1        1  32.80  34.850        33   \n",
       "2  5.814131       4        0           0        1  15.58  19.695        40   \n",
       "3  6.436150       3        0           1        1  32.80  37.880        55   \n",
       "4  4.262680       2        0           1        1  13.94  17.425        76   \n",
       "\n",
       "   windspeed  year  month  day  dayofweek  hour  \n",
       "0     7.0015  2011      9    3          5     0  \n",
       "1     7.0015  2012      8   13          0    14  \n",
       "2    11.0014  2011     11    5          5    17  \n",
       "3    12.9980  2012      8    9          3    19  \n",
       "4     7.0015  2011      4   14          3     6  "
      ]
     },
     "metadata": {},
     "output_type": "display_data"
    },
    {
     "data": {
      "text/html": [
       "<div>\n",
       "<style scoped>\n",
       "    .dataframe tbody tr th:only-of-type {\n",
       "        vertical-align: middle;\n",
       "    }\n",
       "\n",
       "    .dataframe tbody tr th {\n",
       "        vertical-align: top;\n",
       "    }\n",
       "\n",
       "    .dataframe thead th {\n",
       "        text-align: right;\n",
       "    }\n",
       "</style>\n",
       "<table border=\"1\" class=\"dataframe\">\n",
       "  <thead>\n",
       "    <tr style=\"text-align: right;\">\n",
       "      <th></th>\n",
       "      <th>count</th>\n",
       "      <th>season</th>\n",
       "      <th>holiday</th>\n",
       "      <th>workingday</th>\n",
       "      <th>weather</th>\n",
       "      <th>temp</th>\n",
       "      <th>atemp</th>\n",
       "      <th>humidity</th>\n",
       "      <th>windspeed</th>\n",
       "      <th>year</th>\n",
       "      <th>month</th>\n",
       "      <th>day</th>\n",
       "      <th>dayofweek</th>\n",
       "      <th>hour</th>\n",
       "    </tr>\n",
       "  </thead>\n",
       "  <tbody>\n",
       "    <tr>\n",
       "      <th>0</th>\n",
       "      <td>6.095825</td>\n",
       "      <td>3</td>\n",
       "      <td>0</td>\n",
       "      <td>1</td>\n",
       "      <td>2</td>\n",
       "      <td>28.70</td>\n",
       "      <td>33.335</td>\n",
       "      <td>79</td>\n",
       "      <td>12.9980</td>\n",
       "      <td>2011</td>\n",
       "      <td>7</td>\n",
       "      <td>7</td>\n",
       "      <td>3</td>\n",
       "      <td>8</td>\n",
       "    </tr>\n",
       "    <tr>\n",
       "      <th>1</th>\n",
       "      <td>5.961005</td>\n",
       "      <td>2</td>\n",
       "      <td>0</td>\n",
       "      <td>0</td>\n",
       "      <td>1</td>\n",
       "      <td>32.80</td>\n",
       "      <td>37.880</td>\n",
       "      <td>55</td>\n",
       "      <td>12.9980</td>\n",
       "      <td>2011</td>\n",
       "      <td>6</td>\n",
       "      <td>11</td>\n",
       "      <td>5</td>\n",
       "      <td>13</td>\n",
       "    </tr>\n",
       "    <tr>\n",
       "      <th>2</th>\n",
       "      <td>1.098612</td>\n",
       "      <td>1</td>\n",
       "      <td>0</td>\n",
       "      <td>1</td>\n",
       "      <td>1</td>\n",
       "      <td>14.76</td>\n",
       "      <td>16.665</td>\n",
       "      <td>40</td>\n",
       "      <td>19.9995</td>\n",
       "      <td>2011</td>\n",
       "      <td>2</td>\n",
       "      <td>14</td>\n",
       "      <td>0</td>\n",
       "      <td>2</td>\n",
       "    </tr>\n",
       "    <tr>\n",
       "      <th>3</th>\n",
       "      <td>3.891820</td>\n",
       "      <td>1</td>\n",
       "      <td>0</td>\n",
       "      <td>1</td>\n",
       "      <td>1</td>\n",
       "      <td>9.02</td>\n",
       "      <td>9.090</td>\n",
       "      <td>47</td>\n",
       "      <td>36.9974</td>\n",
       "      <td>2011</td>\n",
       "      <td>2</td>\n",
       "      <td>8</td>\n",
       "      <td>1</td>\n",
       "      <td>10</td>\n",
       "    </tr>\n",
       "    <tr>\n",
       "      <th>4</th>\n",
       "      <td>4.025352</td>\n",
       "      <td>4</td>\n",
       "      <td>0</td>\n",
       "      <td>0</td>\n",
       "      <td>1</td>\n",
       "      <td>10.66</td>\n",
       "      <td>15.150</td>\n",
       "      <td>87</td>\n",
       "      <td>0.0000</td>\n",
       "      <td>2011</td>\n",
       "      <td>12</td>\n",
       "      <td>4</td>\n",
       "      <td>6</td>\n",
       "      <td>8</td>\n",
       "    </tr>\n",
       "  </tbody>\n",
       "</table>\n",
       "</div>"
      ],
      "text/plain": [
       "      count  season  holiday  workingday  weather   temp   atemp  humidity  \\\n",
       "0  6.095825       3        0           1        2  28.70  33.335        79   \n",
       "1  5.961005       2        0           0        1  32.80  37.880        55   \n",
       "2  1.098612       1        0           1        1  14.76  16.665        40   \n",
       "3  3.891820       1        0           1        1   9.02   9.090        47   \n",
       "4  4.025352       4        0           0        1  10.66  15.150        87   \n",
       "\n",
       "   windspeed  year  month  day  dayofweek  hour  \n",
       "0    12.9980  2011      7    7          3     8  \n",
       "1    12.9980  2011      6   11          5    13  \n",
       "2    19.9995  2011      2   14          0     2  \n",
       "3    36.9974  2011      2    8          1    10  \n",
       "4     0.0000  2011     12    4          6     8  "
      ]
     },
     "metadata": {},
     "output_type": "display_data"
    }
   ],
   "source": [
    "# Specify the column names as the file does not have column header\n",
    "df_train = pd.read_csv('rob_bike_train.csv', names=columns)\n",
    "display(df_train.head())\n",
    "\n",
    "df_validation = pd.read_csv('rob_bike_validation.csv', names=columns)\n",
    "display(df_validation.head())"
   ]
  },
  {
   "cell_type": "code",
   "execution_count": 6,
   "metadata": {
    "colab": {},
    "colab_type": "code",
    "id": "uNr4PUokHbYm"
   },
   "outputs": [],
   "source": [
    "## Preparing Independent features and dependent feature\n",
    "X_train = df_train.iloc[:,1:] # Features: 1st column onwards \n",
    "y_train = df_train.iloc[:,0].ravel() # Target: 0th column\n",
    "\n",
    "X_validation = df_validation.iloc[:,1:]\n",
    "y_validation = df_validation.iloc[:,0].ravel()\n",
    "\n",
    "## XGBoost accepts target variable in first column"
   ]
  },
  {
   "cell_type": "code",
   "execution_count": 7,
   "metadata": {
    "colab": {
     "base_uri": "https://localhost:8080/",
     "height": 136
    },
    "colab_type": "code",
    "executionInfo": {
     "elapsed": 702,
     "status": "ok",
     "timestamp": 1591123130347,
     "user": {
      "displayName": "Robins Yadav",
      "photoUrl": "",
      "userId": "09341548175987336254"
     },
     "user_tz": 420
    },
    "id": "Z7NoXLcsHbYr",
    "outputId": "c88b738e-b63d-4172-ad07-cf4d044afa41"
   },
   "outputs": [
    {
     "data": {
      "text/plain": [
       "XGBRegressor(base_score=0.5, booster='gbtree', colsample_bylevel=1,\n",
       "       colsample_bynode=1, colsample_bytree=1, gamma=0,\n",
       "       importance_type='gain', learning_rate=0.1, max_delta_step=0,\n",
       "       max_depth=5, min_child_weight=1, missing=None, n_estimators=150,\n",
       "       n_jobs=1, nthread=None, objective='reg:linear', random_state=0,\n",
       "       reg_alpha=0, reg_lambda=1, scale_pos_weight=1, seed=None,\n",
       "       silent=None, subsample=1, verbosity=1)"
      ]
     },
     "execution_count": 7,
     "metadata": {},
     "output_type": "execute_result"
    }
   ],
   "source": [
    "# XGBoost Training Parameter Reference: \n",
    "#   https://github.com/dmlc/xgboost/blob/master/doc/parameter.md\n",
    "#regressor = xgb.XGBRegressor(max_depth=5,eta=0.1,subsample=0.7,num_round=150)\n",
    "regressor = xgb.XGBRegressor(max_depth=5, n_estimators=150)\n",
    "regressor"
   ]
  },
  {
   "cell_type": "code",
   "execution_count": 8,
   "metadata": {
    "colab": {
     "base_uri": "https://localhost:8080/",
     "height": 1000
    },
    "colab_type": "code",
    "executionInfo": {
     "elapsed": 2375,
     "status": "ok",
     "timestamp": 1591123174246,
     "user": {
      "displayName": "Robins Yadav",
      "photoUrl": "",
      "userId": "09341548175987336254"
     },
     "user_tz": 420
    },
    "id": "SDncfKBAHbY6",
    "outputId": "f00f25a2-f0e9-41d3-a423-f1c507498692"
   },
   "outputs": [
    {
     "name": "stdout",
     "output_type": "stream",
     "text": [
      "[19:14:31] WARNING: /workspace/src/objective/regression_obj.cu:152: reg:linear is now deprecated in favor of reg:squarederror.\n",
      "[0]\tvalidation_0-rmse:3.90482\tvalidation_1-rmse:3.915\n",
      "[1]\tvalidation_0-rmse:3.5257\tvalidation_1-rmse:3.53473\n",
      "[2]\tvalidation_0-rmse:3.18357\tvalidation_1-rmse:3.19135\n",
      "[3]\tvalidation_0-rmse:2.87753\tvalidation_1-rmse:2.88396\n",
      "[4]\tvalidation_0-rmse:2.60175\tvalidation_1-rmse:2.60791\n",
      "[5]\tvalidation_0-rmse:2.35538\tvalidation_1-rmse:2.36057\n",
      "[6]\tvalidation_0-rmse:2.13328\tvalidation_1-rmse:2.13766\n",
      "[7]\tvalidation_0-rmse:1.93436\tvalidation_1-rmse:1.93815\n",
      "[8]\tvalidation_0-rmse:1.75541\tvalidation_1-rmse:1.75955\n",
      "[9]\tvalidation_0-rmse:1.59684\tvalidation_1-rmse:1.60087\n",
      "[10]\tvalidation_0-rmse:1.4523\tvalidation_1-rmse:1.45613\n",
      "[11]\tvalidation_0-rmse:1.32451\tvalidation_1-rmse:1.32876\n",
      "[12]\tvalidation_0-rmse:1.21094\tvalidation_1-rmse:1.21528\n",
      "[13]\tvalidation_0-rmse:1.10819\tvalidation_1-rmse:1.1128\n",
      "[14]\tvalidation_0-rmse:1.01308\tvalidation_1-rmse:1.01895\n",
      "[15]\tvalidation_0-rmse:0.930727\tvalidation_1-rmse:0.93658\n",
      "[16]\tvalidation_0-rmse:0.859046\tvalidation_1-rmse:0.86507\n",
      "[17]\tvalidation_0-rmse:0.796009\tvalidation_1-rmse:0.802971\n",
      "[18]\tvalidation_0-rmse:0.739819\tvalidation_1-rmse:0.747665\n",
      "[19]\tvalidation_0-rmse:0.691138\tvalidation_1-rmse:0.699548\n",
      "[20]\tvalidation_0-rmse:0.645116\tvalidation_1-rmse:0.654477\n",
      "[21]\tvalidation_0-rmse:0.603503\tvalidation_1-rmse:0.61416\n",
      "[22]\tvalidation_0-rmse:0.569957\tvalidation_1-rmse:0.581494\n",
      "[23]\tvalidation_0-rmse:0.53829\tvalidation_1-rmse:0.550411\n",
      "[24]\tvalidation_0-rmse:0.508124\tvalidation_1-rmse:0.521634\n",
      "[25]\tvalidation_0-rmse:0.485736\tvalidation_1-rmse:0.500227\n",
      "[26]\tvalidation_0-rmse:0.465202\tvalidation_1-rmse:0.48054\n",
      "[27]\tvalidation_0-rmse:0.447992\tvalidation_1-rmse:0.46408\n",
      "[28]\tvalidation_0-rmse:0.432574\tvalidation_1-rmse:0.449276\n",
      "[29]\tvalidation_0-rmse:0.415215\tvalidation_1-rmse:0.433036\n",
      "[30]\tvalidation_0-rmse:0.402892\tvalidation_1-rmse:0.421014\n",
      "[31]\tvalidation_0-rmse:0.390768\tvalidation_1-rmse:0.409644\n",
      "[32]\tvalidation_0-rmse:0.378094\tvalidation_1-rmse:0.397333\n",
      "[33]\tvalidation_0-rmse:0.369528\tvalidation_1-rmse:0.389705\n",
      "[34]\tvalidation_0-rmse:0.362198\tvalidation_1-rmse:0.382773\n",
      "[35]\tvalidation_0-rmse:0.356893\tvalidation_1-rmse:0.378007\n",
      "[36]\tvalidation_0-rmse:0.351624\tvalidation_1-rmse:0.373425\n",
      "[37]\tvalidation_0-rmse:0.347435\tvalidation_1-rmse:0.369651\n",
      "[38]\tvalidation_0-rmse:0.336782\tvalidation_1-rmse:0.359546\n",
      "[39]\tvalidation_0-rmse:0.333616\tvalidation_1-rmse:0.356714\n",
      "[40]\tvalidation_0-rmse:0.329495\tvalidation_1-rmse:0.352746\n",
      "[41]\tvalidation_0-rmse:0.326881\tvalidation_1-rmse:0.350815\n",
      "[42]\tvalidation_0-rmse:0.323964\tvalidation_1-rmse:0.348364\n",
      "[43]\tvalidation_0-rmse:0.3215\tvalidation_1-rmse:0.346396\n",
      "[44]\tvalidation_0-rmse:0.317631\tvalidation_1-rmse:0.342931\n",
      "[45]\tvalidation_0-rmse:0.315924\tvalidation_1-rmse:0.341521\n",
      "[46]\tvalidation_0-rmse:0.313955\tvalidation_1-rmse:0.339948\n",
      "[47]\tvalidation_0-rmse:0.306913\tvalidation_1-rmse:0.333061\n",
      "[48]\tvalidation_0-rmse:0.304792\tvalidation_1-rmse:0.331608\n",
      "[49]\tvalidation_0-rmse:0.303326\tvalidation_1-rmse:0.33069\n",
      "[50]\tvalidation_0-rmse:0.302073\tvalidation_1-rmse:0.329927\n",
      "[51]\tvalidation_0-rmse:0.300661\tvalidation_1-rmse:0.32894\n",
      "[52]\tvalidation_0-rmse:0.299211\tvalidation_1-rmse:0.327992\n",
      "[53]\tvalidation_0-rmse:0.29513\tvalidation_1-rmse:0.324313\n",
      "[54]\tvalidation_0-rmse:0.293532\tvalidation_1-rmse:0.323187\n",
      "[55]\tvalidation_0-rmse:0.292478\tvalidation_1-rmse:0.322857\n",
      "[56]\tvalidation_0-rmse:0.288418\tvalidation_1-rmse:0.319301\n",
      "[57]\tvalidation_0-rmse:0.28736\tvalidation_1-rmse:0.318628\n",
      "[58]\tvalidation_0-rmse:0.286105\tvalidation_1-rmse:0.317638\n",
      "[59]\tvalidation_0-rmse:0.284902\tvalidation_1-rmse:0.317074\n",
      "[60]\tvalidation_0-rmse:0.284444\tvalidation_1-rmse:0.316893\n",
      "[61]\tvalidation_0-rmse:0.283255\tvalidation_1-rmse:0.316004\n",
      "[62]\tvalidation_0-rmse:0.280049\tvalidation_1-rmse:0.313223\n",
      "[63]\tvalidation_0-rmse:0.277138\tvalidation_1-rmse:0.310545\n",
      "[64]\tvalidation_0-rmse:0.276361\tvalidation_1-rmse:0.310189\n",
      "[65]\tvalidation_0-rmse:0.275314\tvalidation_1-rmse:0.309661\n",
      "[66]\tvalidation_0-rmse:0.274953\tvalidation_1-rmse:0.309614\n",
      "[67]\tvalidation_0-rmse:0.272614\tvalidation_1-rmse:0.307508\n",
      "[68]\tvalidation_0-rmse:0.27181\tvalidation_1-rmse:0.307187\n",
      "[69]\tvalidation_0-rmse:0.270858\tvalidation_1-rmse:0.306733\n",
      "[70]\tvalidation_0-rmse:0.269216\tvalidation_1-rmse:0.305265\n",
      "[71]\tvalidation_0-rmse:0.268576\tvalidation_1-rmse:0.305045\n",
      "[72]\tvalidation_0-rmse:0.268009\tvalidation_1-rmse:0.304844\n",
      "[73]\tvalidation_0-rmse:0.267088\tvalidation_1-rmse:0.304133\n",
      "[74]\tvalidation_0-rmse:0.266438\tvalidation_1-rmse:0.303784\n",
      "[75]\tvalidation_0-rmse:0.265806\tvalidation_1-rmse:0.303449\n",
      "[76]\tvalidation_0-rmse:0.265282\tvalidation_1-rmse:0.303281\n",
      "[77]\tvalidation_0-rmse:0.264917\tvalidation_1-rmse:0.303059\n",
      "[78]\tvalidation_0-rmse:0.263473\tvalidation_1-rmse:0.301825\n",
      "[79]\tvalidation_0-rmse:0.262622\tvalidation_1-rmse:0.301455\n",
      "[80]\tvalidation_0-rmse:0.261904\tvalidation_1-rmse:0.30091\n",
      "[81]\tvalidation_0-rmse:0.261178\tvalidation_1-rmse:0.3007\n",
      "[82]\tvalidation_0-rmse:0.259859\tvalidation_1-rmse:0.29942\n",
      "[83]\tvalidation_0-rmse:0.259206\tvalidation_1-rmse:0.29912\n",
      "[84]\tvalidation_0-rmse:0.257769\tvalidation_1-rmse:0.298173\n",
      "[85]\tvalidation_0-rmse:0.257324\tvalidation_1-rmse:0.297936\n",
      "[86]\tvalidation_0-rmse:0.256728\tvalidation_1-rmse:0.297477\n",
      "[87]\tvalidation_0-rmse:0.25604\tvalidation_1-rmse:0.297069\n",
      "[88]\tvalidation_0-rmse:0.255616\tvalidation_1-rmse:0.29716\n",
      "[89]\tvalidation_0-rmse:0.25403\tvalidation_1-rmse:0.295862\n",
      "[90]\tvalidation_0-rmse:0.25352\tvalidation_1-rmse:0.295804\n",
      "[91]\tvalidation_0-rmse:0.253429\tvalidation_1-rmse:0.295716\n",
      "[92]\tvalidation_0-rmse:0.252981\tvalidation_1-rmse:0.29547\n",
      "[93]\tvalidation_0-rmse:0.252083\tvalidation_1-rmse:0.29489\n",
      "[94]\tvalidation_0-rmse:0.251751\tvalidation_1-rmse:0.294759\n",
      "[95]\tvalidation_0-rmse:0.250829\tvalidation_1-rmse:0.294101\n",
      "[96]\tvalidation_0-rmse:0.250736\tvalidation_1-rmse:0.294108\n",
      "[97]\tvalidation_0-rmse:0.250399\tvalidation_1-rmse:0.293899\n",
      "[98]\tvalidation_0-rmse:0.249883\tvalidation_1-rmse:0.293697\n",
      "[99]\tvalidation_0-rmse:0.249296\tvalidation_1-rmse:0.293571\n",
      "[100]\tvalidation_0-rmse:0.248318\tvalidation_1-rmse:0.292922\n",
      "[101]\tvalidation_0-rmse:0.247974\tvalidation_1-rmse:0.292865\n",
      "[102]\tvalidation_0-rmse:0.247726\tvalidation_1-rmse:0.292732\n",
      "[103]\tvalidation_0-rmse:0.247041\tvalidation_1-rmse:0.292303\n",
      "[104]\tvalidation_0-rmse:0.24644\tvalidation_1-rmse:0.291903\n",
      "[105]\tvalidation_0-rmse:0.246164\tvalidation_1-rmse:0.291855\n",
      "[106]\tvalidation_0-rmse:0.245975\tvalidation_1-rmse:0.291743\n",
      "[107]\tvalidation_0-rmse:0.245522\tvalidation_1-rmse:0.291662\n",
      "[108]\tvalidation_0-rmse:0.245111\tvalidation_1-rmse:0.291553\n",
      "[109]\tvalidation_0-rmse:0.244497\tvalidation_1-rmse:0.291216\n",
      "[110]\tvalidation_0-rmse:0.243922\tvalidation_1-rmse:0.291008\n",
      "[111]\tvalidation_0-rmse:0.243791\tvalidation_1-rmse:0.290995\n",
      "[112]\tvalidation_0-rmse:0.243583\tvalidation_1-rmse:0.290905\n",
      "[113]\tvalidation_0-rmse:0.243391\tvalidation_1-rmse:0.290788\n",
      "[114]\tvalidation_0-rmse:0.242621\tvalidation_1-rmse:0.290316\n",
      "[115]\tvalidation_0-rmse:0.242317\tvalidation_1-rmse:0.290332\n",
      "[116]\tvalidation_0-rmse:0.241816\tvalidation_1-rmse:0.289949\n",
      "[117]\tvalidation_0-rmse:0.241413\tvalidation_1-rmse:0.289825\n",
      "[118]\tvalidation_0-rmse:0.240825\tvalidation_1-rmse:0.289536\n",
      "[119]\tvalidation_0-rmse:0.240248\tvalidation_1-rmse:0.289447\n",
      "[120]\tvalidation_0-rmse:0.239963\tvalidation_1-rmse:0.289379\n",
      "[121]\tvalidation_0-rmse:0.239508\tvalidation_1-rmse:0.28926\n",
      "[122]\tvalidation_0-rmse:0.239288\tvalidation_1-rmse:0.28921\n",
      "[123]\tvalidation_0-rmse:0.239146\tvalidation_1-rmse:0.289111\n",
      "[124]\tvalidation_0-rmse:0.23864\tvalidation_1-rmse:0.288794\n",
      "[125]\tvalidation_0-rmse:0.238174\tvalidation_1-rmse:0.28861\n",
      "[126]\tvalidation_0-rmse:0.237956\tvalidation_1-rmse:0.288422\n",
      "[127]\tvalidation_0-rmse:0.237445\tvalidation_1-rmse:0.28851\n",
      "[128]\tvalidation_0-rmse:0.23713\tvalidation_1-rmse:0.288454\n",
      "[129]\tvalidation_0-rmse:0.236959\tvalidation_1-rmse:0.28839\n",
      "[130]\tvalidation_0-rmse:0.23653\tvalidation_1-rmse:0.288203\n",
      "[131]\tvalidation_0-rmse:0.236067\tvalidation_1-rmse:0.288095\n",
      "[132]\tvalidation_0-rmse:0.235798\tvalidation_1-rmse:0.288096\n",
      "[133]\tvalidation_0-rmse:0.235283\tvalidation_1-rmse:0.287883\n",
      "[134]\tvalidation_0-rmse:0.234849\tvalidation_1-rmse:0.287947\n",
      "[135]\tvalidation_0-rmse:0.234621\tvalidation_1-rmse:0.28789\n",
      "[136]\tvalidation_0-rmse:0.234471\tvalidation_1-rmse:0.287796\n",
      "[137]\tvalidation_0-rmse:0.234296\tvalidation_1-rmse:0.287725\n"
     ]
    },
    {
     "name": "stdout",
     "output_type": "stream",
     "text": [
      "[138]\tvalidation_0-rmse:0.234167\tvalidation_1-rmse:0.287694\n",
      "[139]\tvalidation_0-rmse:0.234036\tvalidation_1-rmse:0.287661\n",
      "[140]\tvalidation_0-rmse:0.233799\tvalidation_1-rmse:0.287701\n",
      "[141]\tvalidation_0-rmse:0.233351\tvalidation_1-rmse:0.287619\n",
      "[142]\tvalidation_0-rmse:0.233271\tvalidation_1-rmse:0.287616\n",
      "[143]\tvalidation_0-rmse:0.233156\tvalidation_1-rmse:0.287581\n",
      "[144]\tvalidation_0-rmse:0.233068\tvalidation_1-rmse:0.287578\n",
      "[145]\tvalidation_0-rmse:0.232562\tvalidation_1-rmse:0.287295\n",
      "[146]\tvalidation_0-rmse:0.232108\tvalidation_1-rmse:0.286999\n",
      "[147]\tvalidation_0-rmse:0.231565\tvalidation_1-rmse:0.286905\n",
      "[148]\tvalidation_0-rmse:0.231239\tvalidation_1-rmse:0.286819\n",
      "[149]\tvalidation_0-rmse:0.231105\tvalidation_1-rmse:0.286811\n"
     ]
    }
   ],
   "source": [
    "## Aprroximation target variable by training on train data\n",
    "regressor.fit(X_train,y_train, eval_set = [(X_train, y_train), (X_validation, y_validation)]);"
   ]
  },
  {
   "cell_type": "code",
   "execution_count": 9,
   "metadata": {
    "colab": {
     "base_uri": "https://localhost:8080/",
     "height": 170
    },
    "colab_type": "code",
    "executionInfo": {
     "elapsed": 462,
     "status": "ok",
     "timestamp": 1591123180546,
     "user": {
      "displayName": "Robins Yadav",
      "photoUrl": "",
      "userId": "09341548175987336254"
     },
     "user_tz": 420
    },
    "id": "tEKFVXuaHbZC",
    "outputId": "d37ac682-2e08-48fc-e720-1dd12ae8e078"
   },
   "outputs": [
    {
     "data": {
      "text/plain": [
       "count    7620.000000\n",
       "mean        4.583886\n",
       "std         1.429959\n",
       "min         0.693147\n",
       "25%         3.737670\n",
       "50%         4.976734\n",
       "75%         5.652489\n",
       "max         6.885510\n",
       "Name: count, dtype: float64"
      ]
     },
     "execution_count": 9,
     "metadata": {},
     "output_type": "execute_result"
    }
   ],
   "source": [
    "## Summary statistics of target variable\n",
    "df_train['count'].describe()"
   ]
  },
  {
   "cell_type": "code",
   "execution_count": 10,
   "metadata": {
    "colab": {},
    "colab_type": "code",
    "id": "bHLPVq4kHbZI"
   },
   "outputs": [],
   "source": [
    "## Result after training on train set\n",
    "eval_result = regressor.evals_result()\n",
    "# print(eval_result)"
   ]
  },
  {
   "cell_type": "code",
   "execution_count": 11,
   "metadata": {
    "colab": {
     "base_uri": "https://localhost:8080/",
     "height": 404
    },
    "colab_type": "code",
    "executionInfo": {
     "elapsed": 666,
     "status": "ok",
     "timestamp": 1591123226620,
     "user": {
      "displayName": "Robins Yadav",
      "photoUrl": "",
      "userId": "09341548175987336254"
     },
     "user_tz": 420
    },
    "id": "TRqweWMAHbZV",
    "outputId": "a7a9b120-3079-49db-948d-cf4d86f8734e"
   },
   "outputs": [
    {
     "data": {
      "image/png": "[encoded data removed]",
      "text/plain": [
       "<Figure size 648x432 with 1 Axes>"
      ]
     },
     "metadata": {},
     "output_type": "display_data"
    }
   ],
   "source": [
    "### Plotting \"training error\" vs. \"validation error\" -- to check model performance\n",
    "## No.of Iterations\n",
    "training_rounds = range(len(eval_result['validation_0']['rmse']))\n",
    "\n",
    "## plot\n",
    "plt.figure(figsize=(9,6))\n",
    "plt.scatter(x=training_rounds, y=eval_result['validation_0']['rmse'], label='Training Error')\n",
    "plt.scatter(x=training_rounds, y=eval_result['validation_1']['rmse'], label='Validation Error')\n",
    "plt.grid(True)\n",
    "plt.xlabel('Iteration')\n",
    "plt.ylabel('RMSE')\n",
    "plt.title('Training Vs Validation Error')\n",
    "plt.legend()\n",
    "plt.show()"
   ]
  },
  {
   "cell_type": "code",
   "execution_count": 12,
   "metadata": {
    "colab": {
     "base_uri": "https://localhost:8080/",
     "height": 295
    },
    "colab_type": "code",
    "executionInfo": {
     "elapsed": 925,
     "status": "ok",
     "timestamp": 1591123302577,
     "user": {
      "displayName": "Robins Yadav",
      "photoUrl": "",
      "userId": "09341548175987336254"
     },
     "user_tz": 420
    },
    "id": "EPAw46lNHbZa",
    "outputId": "02072a53-8499-4014-b60b-07d1489e20f7"
   },
   "outputs": [
    {
     "data": {
      "image/png": "[encoded data removed]",
      "text/plain": [
       "<Figure size 432x288 with 1 Axes>"
      ]
     },
     "metadata": {},
     "output_type": "display_data"
    }
   ],
   "source": [
    "## Feature importance\n",
    "xgb.plot_importance(regressor)\n",
    "plt.show()\n",
    "\n",
    "## Note: \"hour is the most important features\", also \n",
    "# \"humidty\", \"temperature\", \"day\" plays important role"
   ]
  },
  {
   "cell_type": "markdown",
   "metadata": {
    "colab_type": "text",
    "id": "vJeJqGGTTVd_"
   },
   "source": [
    "## Prediction validation dataset --- test for this case"
   ]
  },
  {
   "cell_type": "code",
   "execution_count": 13,
   "metadata": {
    "colab": {
     "base_uri": "https://localhost:8080/",
     "height": 204
    },
    "colab_type": "code",
    "executionInfo": {
     "elapsed": 510,
     "status": "ok",
     "timestamp": 1591123372835,
     "user": {
      "displayName": "Robins Yadav",
      "photoUrl": "",
      "userId": "09341548175987336254"
     },
     "user_tz": 420
    },
    "id": "BAbhWwqKHbZh",
    "outputId": "c03dd91a-bf62-4028-bd57-fc936c1e554c"
   },
   "outputs": [
    {
     "data": {
      "text/html": [
       "<div>\n",
       "<style scoped>\n",
       "    .dataframe tbody tr th:only-of-type {\n",
       "        vertical-align: middle;\n",
       "    }\n",
       "\n",
       "    .dataframe tbody tr th {\n",
       "        vertical-align: top;\n",
       "    }\n",
       "\n",
       "    .dataframe thead th {\n",
       "        text-align: right;\n",
       "    }\n",
       "</style>\n",
       "<table border=\"1\" class=\"dataframe\">\n",
       "  <thead>\n",
       "    <tr style=\"text-align: right;\">\n",
       "      <th></th>\n",
       "      <th>count</th>\n",
       "      <th>season</th>\n",
       "      <th>holiday</th>\n",
       "      <th>workingday</th>\n",
       "      <th>weather</th>\n",
       "      <th>temp</th>\n",
       "      <th>atemp</th>\n",
       "      <th>humidity</th>\n",
       "      <th>windspeed</th>\n",
       "      <th>year</th>\n",
       "      <th>month</th>\n",
       "      <th>day</th>\n",
       "      <th>dayofweek</th>\n",
       "      <th>hour</th>\n",
       "    </tr>\n",
       "  </thead>\n",
       "  <tbody>\n",
       "    <tr>\n",
       "      <th>0</th>\n",
       "      <td>6.095825</td>\n",
       "      <td>3</td>\n",
       "      <td>0</td>\n",
       "      <td>1</td>\n",
       "      <td>2</td>\n",
       "      <td>28.70</td>\n",
       "      <td>33.335</td>\n",
       "      <td>79</td>\n",
       "      <td>12.9980</td>\n",
       "      <td>2011</td>\n",
       "      <td>7</td>\n",
       "      <td>7</td>\n",
       "      <td>3</td>\n",
       "      <td>8</td>\n",
       "    </tr>\n",
       "    <tr>\n",
       "      <th>1</th>\n",
       "      <td>5.961005</td>\n",
       "      <td>2</td>\n",
       "      <td>0</td>\n",
       "      <td>0</td>\n",
       "      <td>1</td>\n",
       "      <td>32.80</td>\n",
       "      <td>37.880</td>\n",
       "      <td>55</td>\n",
       "      <td>12.9980</td>\n",
       "      <td>2011</td>\n",
       "      <td>6</td>\n",
       "      <td>11</td>\n",
       "      <td>5</td>\n",
       "      <td>13</td>\n",
       "    </tr>\n",
       "    <tr>\n",
       "      <th>2</th>\n",
       "      <td>1.098612</td>\n",
       "      <td>1</td>\n",
       "      <td>0</td>\n",
       "      <td>1</td>\n",
       "      <td>1</td>\n",
       "      <td>14.76</td>\n",
       "      <td>16.665</td>\n",
       "      <td>40</td>\n",
       "      <td>19.9995</td>\n",
       "      <td>2011</td>\n",
       "      <td>2</td>\n",
       "      <td>14</td>\n",
       "      <td>0</td>\n",
       "      <td>2</td>\n",
       "    </tr>\n",
       "    <tr>\n",
       "      <th>3</th>\n",
       "      <td>3.891820</td>\n",
       "      <td>1</td>\n",
       "      <td>0</td>\n",
       "      <td>1</td>\n",
       "      <td>1</td>\n",
       "      <td>9.02</td>\n",
       "      <td>9.090</td>\n",
       "      <td>47</td>\n",
       "      <td>36.9974</td>\n",
       "      <td>2011</td>\n",
       "      <td>2</td>\n",
       "      <td>8</td>\n",
       "      <td>1</td>\n",
       "      <td>10</td>\n",
       "    </tr>\n",
       "    <tr>\n",
       "      <th>4</th>\n",
       "      <td>4.025352</td>\n",
       "      <td>4</td>\n",
       "      <td>0</td>\n",
       "      <td>0</td>\n",
       "      <td>1</td>\n",
       "      <td>10.66</td>\n",
       "      <td>15.150</td>\n",
       "      <td>87</td>\n",
       "      <td>0.0000</td>\n",
       "      <td>2011</td>\n",
       "      <td>12</td>\n",
       "      <td>4</td>\n",
       "      <td>6</td>\n",
       "      <td>8</td>\n",
       "    </tr>\n",
       "  </tbody>\n",
       "</table>\n",
       "</div>"
      ],
      "text/plain": [
       "      count  season  holiday  workingday  weather   temp   atemp  humidity  \\\n",
       "0  6.095825       3        0           1        2  28.70  33.335        79   \n",
       "1  5.961005       2        0           0        1  32.80  37.880        55   \n",
       "2  1.098612       1        0           1        1  14.76  16.665        40   \n",
       "3  3.891820       1        0           1        1   9.02   9.090        47   \n",
       "4  4.025352       4        0           0        1  10.66  15.150        87   \n",
       "\n",
       "   windspeed  year  month  day  dayofweek  hour  \n",
       "0    12.9980  2011      7    7          3     8  \n",
       "1    12.9980  2011      6   11          5    13  \n",
       "2    19.9995  2011      2   14          0     2  \n",
       "3    36.9974  2011      2    8          1    10  \n",
       "4     0.0000  2011     12    4          6     8  "
      ]
     },
     "execution_count": 13,
     "metadata": {},
     "output_type": "execute_result"
    }
   ],
   "source": [
    "# Updated - Changed to validation dataset\n",
    "# Compare actual vs predicted performance with dataset not seen by the model before\n",
    "df_test = pd.read_csv(\"rob_bike_validation.csv\", names=columns)\n",
    "df_test.head()"
   ]
  },
  {
   "cell_type": "code",
   "execution_count": 14,
   "metadata": {
    "colab": {
     "base_uri": "https://localhost:8080/",
     "height": 204
    },
    "colab_type": "code",
    "executionInfo": {
     "elapsed": 693,
     "status": "ok",
     "timestamp": 1591123445161,
     "user": {
      "displayName": "Robins Yadav",
      "photoUrl": "",
      "userId": "09341548175987336254"
     },
     "user_tz": 420
    },
    "id": "vU_ZoNYjHbZw",
    "outputId": "726cfd4f-beb5-424e-ad51-94b626122513"
   },
   "outputs": [
    {
     "data": {
      "text/html": [
       "<div>\n",
       "<style scoped>\n",
       "    .dataframe tbody tr th:only-of-type {\n",
       "        vertical-align: middle;\n",
       "    }\n",
       "\n",
       "    .dataframe tbody tr th {\n",
       "        vertical-align: top;\n",
       "    }\n",
       "\n",
       "    .dataframe thead th {\n",
       "        text-align: right;\n",
       "    }\n",
       "</style>\n",
       "<table border=\"1\" class=\"dataframe\">\n",
       "  <thead>\n",
       "    <tr style=\"text-align: right;\">\n",
       "      <th></th>\n",
       "      <th>season</th>\n",
       "      <th>holiday</th>\n",
       "      <th>workingday</th>\n",
       "      <th>weather</th>\n",
       "      <th>temp</th>\n",
       "      <th>atemp</th>\n",
       "      <th>humidity</th>\n",
       "      <th>windspeed</th>\n",
       "      <th>year</th>\n",
       "      <th>month</th>\n",
       "      <th>day</th>\n",
       "      <th>dayofweek</th>\n",
       "      <th>hour</th>\n",
       "    </tr>\n",
       "  </thead>\n",
       "  <tbody>\n",
       "    <tr>\n",
       "      <th>0</th>\n",
       "      <td>3</td>\n",
       "      <td>0</td>\n",
       "      <td>1</td>\n",
       "      <td>2</td>\n",
       "      <td>28.70</td>\n",
       "      <td>33.335</td>\n",
       "      <td>79</td>\n",
       "      <td>12.9980</td>\n",
       "      <td>2011</td>\n",
       "      <td>7</td>\n",
       "      <td>7</td>\n",
       "      <td>3</td>\n",
       "      <td>8</td>\n",
       "    </tr>\n",
       "    <tr>\n",
       "      <th>1</th>\n",
       "      <td>2</td>\n",
       "      <td>0</td>\n",
       "      <td>0</td>\n",
       "      <td>1</td>\n",
       "      <td>32.80</td>\n",
       "      <td>37.880</td>\n",
       "      <td>55</td>\n",
       "      <td>12.9980</td>\n",
       "      <td>2011</td>\n",
       "      <td>6</td>\n",
       "      <td>11</td>\n",
       "      <td>5</td>\n",
       "      <td>13</td>\n",
       "    </tr>\n",
       "    <tr>\n",
       "      <th>2</th>\n",
       "      <td>1</td>\n",
       "      <td>0</td>\n",
       "      <td>1</td>\n",
       "      <td>1</td>\n",
       "      <td>14.76</td>\n",
       "      <td>16.665</td>\n",
       "      <td>40</td>\n",
       "      <td>19.9995</td>\n",
       "      <td>2011</td>\n",
       "      <td>2</td>\n",
       "      <td>14</td>\n",
       "      <td>0</td>\n",
       "      <td>2</td>\n",
       "    </tr>\n",
       "    <tr>\n",
       "      <th>3</th>\n",
       "      <td>1</td>\n",
       "      <td>0</td>\n",
       "      <td>1</td>\n",
       "      <td>1</td>\n",
       "      <td>9.02</td>\n",
       "      <td>9.090</td>\n",
       "      <td>47</td>\n",
       "      <td>36.9974</td>\n",
       "      <td>2011</td>\n",
       "      <td>2</td>\n",
       "      <td>8</td>\n",
       "      <td>1</td>\n",
       "      <td>10</td>\n",
       "    </tr>\n",
       "    <tr>\n",
       "      <th>4</th>\n",
       "      <td>4</td>\n",
       "      <td>0</td>\n",
       "      <td>0</td>\n",
       "      <td>1</td>\n",
       "      <td>10.66</td>\n",
       "      <td>15.150</td>\n",
       "      <td>87</td>\n",
       "      <td>0.0000</td>\n",
       "      <td>2011</td>\n",
       "      <td>12</td>\n",
       "      <td>4</td>\n",
       "      <td>6</td>\n",
       "      <td>8</td>\n",
       "    </tr>\n",
       "  </tbody>\n",
       "</table>\n",
       "</div>"
      ],
      "text/plain": [
       "   season  holiday  workingday  weather   temp   atemp  humidity  windspeed  \\\n",
       "0       3        0           1        2  28.70  33.335        79    12.9980   \n",
       "1       2        0           0        1  32.80  37.880        55    12.9980   \n",
       "2       1        0           1        1  14.76  16.665        40    19.9995   \n",
       "3       1        0           1        1   9.02   9.090        47    36.9974   \n",
       "4       4        0           0        1  10.66  15.150        87     0.0000   \n",
       "\n",
       "   year  month  day  dayofweek  hour  \n",
       "0  2011      7    7          3     8  \n",
       "1  2011      6   11          5    13  \n",
       "2  2011      2   14          0     2  \n",
       "3  2011      2    8          1    10  \n",
       "4  2011     12    4          6     8  "
      ]
     },
     "execution_count": 14,
     "metadata": {},
     "output_type": "execute_result"
    }
   ],
   "source": [
    "## Input features from validation dataset \n",
    "# \n",
    "X_test = df_test.iloc[:,1:] ## This features will be feed into trained model to predict bike rental count\n",
    "X_test.head()"
   ]
  },
  {
   "cell_type": "code",
   "execution_count": 15,
   "metadata": {
    "colab": {
     "base_uri": "https://localhost:8080/",
     "height": 51
    },
    "colab_type": "code",
    "executionInfo": {
     "elapsed": 497,
     "status": "ok",
     "timestamp": 1591123468248,
     "user": {
      "displayName": "Robins Yadav",
      "photoUrl": "",
      "userId": "09341548175987336254"
     },
     "user_tz": 420
    },
    "id": "lQPnDjmrHbZ3",
    "outputId": "aa0d938f-5533-4fb9-8094-d9f7cc14a81d"
   },
   "outputs": [
    {
     "data": {
      "text/plain": [
       "array([6.1214523, 5.9719973, 1.3935502, 3.920515 , 4.078306 ],\n",
       "      dtype=float32)"
      ]
     },
     "execution_count": 15,
     "metadata": {},
     "output_type": "execute_result"
    }
   ],
   "source": [
    "## Prediction on test data\n",
    "result = regressor.predict(X_test)\n",
    "result[:5]"
   ]
  },
  {
   "cell_type": "code",
   "execution_count": 16,
   "metadata": {
    "colab": {
     "base_uri": "https://localhost:8080/",
     "height": 204
    },
    "colab_type": "code",
    "executionInfo": {
     "elapsed": 597,
     "status": "ok",
     "timestamp": 1591123555313,
     "user": {
      "displayName": "Robins Yadav",
      "photoUrl": "",
      "userId": "09341548175987336254"
     },
     "user_tz": 420
    },
    "id": "aOuhj8PMHbZ8",
    "outputId": "f13fda3c-5c1e-4ba5-d079-5bfc75ff37b5"
   },
   "outputs": [
    {
     "data": {
      "text/html": [
       "<div>\n",
       "<style scoped>\n",
       "    .dataframe tbody tr th:only-of-type {\n",
       "        vertical-align: middle;\n",
       "    }\n",
       "\n",
       "    .dataframe tbody tr th {\n",
       "        vertical-align: top;\n",
       "    }\n",
       "\n",
       "    .dataframe thead th {\n",
       "        text-align: right;\n",
       "    }\n",
       "</style>\n",
       "<table border=\"1\" class=\"dataframe\">\n",
       "  <thead>\n",
       "    <tr style=\"text-align: right;\">\n",
       "      <th></th>\n",
       "      <th>count</th>\n",
       "      <th>season</th>\n",
       "      <th>holiday</th>\n",
       "      <th>workingday</th>\n",
       "      <th>weather</th>\n",
       "      <th>temp</th>\n",
       "      <th>atemp</th>\n",
       "      <th>humidity</th>\n",
       "      <th>windspeed</th>\n",
       "      <th>year</th>\n",
       "      <th>month</th>\n",
       "      <th>day</th>\n",
       "      <th>dayofweek</th>\n",
       "      <th>hour</th>\n",
       "      <th>pred_count</th>\n",
       "    </tr>\n",
       "  </thead>\n",
       "  <tbody>\n",
       "    <tr>\n",
       "      <th>0</th>\n",
       "      <td>6.095825</td>\n",
       "      <td>3</td>\n",
       "      <td>0</td>\n",
       "      <td>1</td>\n",
       "      <td>2</td>\n",
       "      <td>28.70</td>\n",
       "      <td>33.335</td>\n",
       "      <td>79</td>\n",
       "      <td>12.9980</td>\n",
       "      <td>2011</td>\n",
       "      <td>7</td>\n",
       "      <td>7</td>\n",
       "      <td>3</td>\n",
       "      <td>8</td>\n",
       "      <td>6.121452</td>\n",
       "    </tr>\n",
       "    <tr>\n",
       "      <th>1</th>\n",
       "      <td>5.961005</td>\n",
       "      <td>2</td>\n",
       "      <td>0</td>\n",
       "      <td>0</td>\n",
       "      <td>1</td>\n",
       "      <td>32.80</td>\n",
       "      <td>37.880</td>\n",
       "      <td>55</td>\n",
       "      <td>12.9980</td>\n",
       "      <td>2011</td>\n",
       "      <td>6</td>\n",
       "      <td>11</td>\n",
       "      <td>5</td>\n",
       "      <td>13</td>\n",
       "      <td>5.971997</td>\n",
       "    </tr>\n",
       "    <tr>\n",
       "      <th>2</th>\n",
       "      <td>1.098612</td>\n",
       "      <td>1</td>\n",
       "      <td>0</td>\n",
       "      <td>1</td>\n",
       "      <td>1</td>\n",
       "      <td>14.76</td>\n",
       "      <td>16.665</td>\n",
       "      <td>40</td>\n",
       "      <td>19.9995</td>\n",
       "      <td>2011</td>\n",
       "      <td>2</td>\n",
       "      <td>14</td>\n",
       "      <td>0</td>\n",
       "      <td>2</td>\n",
       "      <td>1.393550</td>\n",
       "    </tr>\n",
       "    <tr>\n",
       "      <th>3</th>\n",
       "      <td>3.891820</td>\n",
       "      <td>1</td>\n",
       "      <td>0</td>\n",
       "      <td>1</td>\n",
       "      <td>1</td>\n",
       "      <td>9.02</td>\n",
       "      <td>9.090</td>\n",
       "      <td>47</td>\n",
       "      <td>36.9974</td>\n",
       "      <td>2011</td>\n",
       "      <td>2</td>\n",
       "      <td>8</td>\n",
       "      <td>1</td>\n",
       "      <td>10</td>\n",
       "      <td>3.920515</td>\n",
       "    </tr>\n",
       "    <tr>\n",
       "      <th>4</th>\n",
       "      <td>4.025352</td>\n",
       "      <td>4</td>\n",
       "      <td>0</td>\n",
       "      <td>0</td>\n",
       "      <td>1</td>\n",
       "      <td>10.66</td>\n",
       "      <td>15.150</td>\n",
       "      <td>87</td>\n",
       "      <td>0.0000</td>\n",
       "      <td>2011</td>\n",
       "      <td>12</td>\n",
       "      <td>4</td>\n",
       "      <td>6</td>\n",
       "      <td>8</td>\n",
       "      <td>4.078306</td>\n",
       "    </tr>\n",
       "  </tbody>\n",
       "</table>\n",
       "</div>"
      ],
      "text/plain": [
       "      count  season  holiday  workingday  weather   temp   atemp  humidity  \\\n",
       "0  6.095825       3        0           1        2  28.70  33.335        79   \n",
       "1  5.961005       2        0           0        1  32.80  37.880        55   \n",
       "2  1.098612       1        0           1        1  14.76  16.665        40   \n",
       "3  3.891820       1        0           1        1   9.02   9.090        47   \n",
       "4  4.025352       4        0           0        1  10.66  15.150        87   \n",
       "\n",
       "   windspeed  year  month  day  dayofweek  hour  pred_count  \n",
       "0    12.9980  2011      7    7          3     8    6.121452  \n",
       "1    12.9980  2011      6   11          5    13    5.971997  \n",
       "2    19.9995  2011      2   14          0     2    1.393550  \n",
       "3    36.9974  2011      2    8          1    10    3.920515  \n",
       "4     0.0000  2011     12    4          6     8    4.078306  "
      ]
     },
     "execution_count": 16,
     "metadata": {},
     "output_type": "execute_result"
    }
   ],
   "source": [
    "## Let's add predicted count column to the test dataframe\n",
    "df_test['pred_count'] = result\n",
    "\n",
    "## check test data now\n",
    "df_test.head()"
   ]
  },
  {
   "cell_type": "code",
   "execution_count": null,
   "metadata": {
    "colab": {
     "base_uri": "https://localhost:8080/",
     "height": 170
    },
    "colab_type": "code",
    "executionInfo": {
     "elapsed": 1025,
     "status": "ok",
     "timestamp": 1591123604879,
     "user": {
      "displayName": "Robins Yadav",
      "photoUrl": "",
      "userId": "09341548175987336254"
     },
     "user_tz": 420
    },
    "id": "He_DRkpoHbaY",
    "outputId": "445566e2-8165-436c-88cc-7d626d1576a7"
   },
   "outputs": [],
   "source": []
  },
  {
   "cell_type": "code",
   "execution_count": 17,
   "metadata": {
    "colab": {},
    "colab_type": "code",
    "id": "-NGSHgOSHba8"
   },
   "outputs": [],
   "source": [
    "## Inverse the log transformation to get the exact bike rental\n",
    "df_test['count'] = df_test['count'].map(np.expm1)\n",
    "df_test['pred_count'] = df_test['pred_count'].map(np.expm1)"
   ]
  },
  {
   "cell_type": "code",
   "execution_count": 18,
   "metadata": {
    "colab": {
     "base_uri": "https://localhost:8080/",
     "height": 170
    },
    "colab_type": "code",
    "executionInfo": {
     "elapsed": 880,
     "status": "ok",
     "timestamp": 1591123790423,
     "user": {
      "displayName": "Robins Yadav",
      "photoUrl": "",
      "userId": "09341548175987336254"
     },
     "user_tz": 420
    },
    "id": "mr14HlHYXUWH",
    "outputId": "a7a8e591-7af7-4981-8f22-3f3c1b5f377f"
   },
   "outputs": [
    {
     "data": {
      "text/plain": [
       "count    3266.000000\n",
       "mean      185.401851\n",
       "std       170.383480\n",
       "min         0.978184\n",
       "25%        42.777171\n",
       "50%       146.433971\n",
       "75%       271.176143\n",
       "max       921.439323\n",
       "Name: pred_count, dtype: float64"
      ]
     },
     "execution_count": 18,
     "metadata": {},
     "output_type": "execute_result"
    }
   ],
   "source": [
    "# Summary Statistics of predicted bike rental counts\n",
    "df_test['pred_count'].describe()"
   ]
  },
  {
   "cell_type": "code",
   "execution_count": 19,
   "metadata": {
    "colab": {
     "base_uri": "https://localhost:8080/",
     "height": 295
    },
    "colab_type": "code",
    "executionInfo": {
     "elapsed": 682,
     "status": "ok",
     "timestamp": 1591123829957,
     "user": {
      "displayName": "Robins Yadav",
      "photoUrl": "",
      "userId": "09341548175987336254"
     },
     "user_tz": 420
    },
    "id": "xvhIOzNIHbbD",
    "outputId": "435dbfa0-d0dc-4ea8-dd04-00a9bd1ca924"
   },
   "outputs": [
    {
     "data": {
      "image/png": "[encoded data removed]",
      "text/plain": [
       "<Figure size 432x288 with 1 Axes>"
      ]
     },
     "metadata": {},
     "output_type": "display_data"
    }
   ],
   "source": [
    "# Actual Vs Predicted\n",
    "plt.plot(df_test['count'], label='Actual')\n",
    "plt.plot(df_test['pred_count'],label='Predicted')\n",
    "plt.xlabel('Sample')\n",
    "plt.ylabel('Count')\n",
    "plt.xlim([100,150])\n",
    "plt.title('Validation Dataset - Predicted Vs. Actual')\n",
    "plt.legend()\n",
    "plt.show()"
   ]
  },
  {
   "cell_type": "code",
   "execution_count": 20,
   "metadata": {
    "colab": {
     "base_uri": "https://localhost:8080/",
     "height": 295
    },
    "colab_type": "code",
    "executionInfo": {
     "elapsed": 648,
     "status": "ok",
     "timestamp": 1591123860668,
     "user": {
      "displayName": "Robins Yadav",
      "photoUrl": "",
      "userId": "09341548175987336254"
     },
     "user_tz": 420
    },
    "id": "80qaQquvHbbP",
    "outputId": "755d2c46-7e10-4df3-8046-b70deab2bd47"
   },
   "outputs": [
    {
     "data": {
      "image/png": "[encoded data removed]",
      "text/plain": [
       "<Figure size 432x288 with 1 Axes>"
      ]
     },
     "metadata": {},
     "output_type": "display_data"
    }
   ],
   "source": [
    "# Over prediction and Under Prediction needs to be balanced\n",
    "# Training Data Residuals\n",
    "residuals = (df_test['count'] - df_test['pred_count'])\n",
    "\n",
    "plt.hist(residuals)\n",
    "plt.grid(True)\n",
    "plt.xlabel('Actual - Predicted')\n",
    "plt.ylabel('Count')\n",
    "plt.title('Residuals Distribution')\n",
    "plt.axvline(color='r')\n",
    "plt.show()"
   ]
  },
  {
   "cell_type": "code",
   "execution_count": 21,
   "metadata": {
    "colab": {
     "base_uri": "https://localhost:8080/",
     "height": 51
    },
    "colab_type": "code",
    "executionInfo": {
     "elapsed": 487,
     "status": "ok",
     "timestamp": 1591123876056,
     "user": {
      "displayName": "Robins Yadav",
      "photoUrl": "",
      "userId": "09341548175987336254"
     },
     "user_tz": 420
    },
    "id": "PekxwLp_HbbU",
    "outputId": "cd1905e0-466c-4a18-bc78-fdf0d35d1918"
   },
   "outputs": [
    {
     "name": "stdout",
     "output_type": "stream",
     "text": [
      " Under Estimation: 0.54\n",
      " Over  Estimation: 0.46\n"
     ]
    }
   ],
   "source": [
    "value_counts = (residuals > 0).value_counts(sort=False)\n",
    "print(' Under Estimation: {0:.2f}'.format(value_counts[True]/len(residuals)))\n",
    "print(' Over  Estimation: {0:.2f}'.format(value_counts[False]/len(residuals)))"
   ]
  },
  {
   "cell_type": "code",
   "execution_count": 22,
   "metadata": {
    "colab": {
     "base_uri": "https://localhost:8080/",
     "height": 34
    },
    "colab_type": "code",
    "executionInfo": {
     "elapsed": 463,
     "status": "ok",
     "timestamp": 1591123915767,
     "user": {
      "displayName": "Robins Yadav",
      "photoUrl": "",
      "userId": "09341548175987336254"
     },
     "user_tz": 420
    },
    "id": "nKyuKKYhHbbc",
    "outputId": "93293ec9-049c-4d2c-af40-7b819e83e789"
   },
   "outputs": [
    {
     "name": "stdout",
     "output_type": "stream",
     "text": [
      "RMSE: 43.43\n"
     ]
    }
   ],
   "source": [
    "### Model Evaluation\n",
    "import sklearn.metrics as metrics\n",
    "print(\"RMSE: {0:.2f}\".format(metrics.mean_squared_error(df_test['count'],\n",
    "                                                    df_test['pred_count'])**.5))"
   ]
  },
  {
   "cell_type": "code",
   "execution_count": 23,
   "metadata": {
    "colab": {},
    "colab_type": "code",
    "id": "h758ArnlHbbk"
   },
   "outputs": [],
   "source": [
    "# Metric Use By Kaggle\n",
    "def compute_rmsle(y_true, y_pred):\n",
    "    if type(y_true) != np.ndarray:\n",
    "        y_true = np.array(y_true)\n",
    "        \n",
    "    if type(y_pred) != np.ndarray:\n",
    "        y_pred = np.array(y_pred)\n",
    "     \n",
    "    return(np.average((np.log1p(y_pred) - np.log1p(y_true))**2)**.5)"
   ]
  },
  {
   "cell_type": "code",
   "execution_count": 24,
   "metadata": {
    "colab": {
     "base_uri": "https://localhost:8080/",
     "height": 34
    },
    "colab_type": "code",
    "executionInfo": {
     "elapsed": 543,
     "status": "ok",
     "timestamp": 1591123949152,
     "user": {
      "displayName": "Robins Yadav",
      "photoUrl": "",
      "userId": "09341548175987336254"
     },
     "user_tz": 420
    },
    "id": "MyyHwrjFHbbq",
    "outputId": "c3739d64-6e58-461c-ec35-710bcfb7fe1b"
   },
   "outputs": [
    {
     "name": "stdout",
     "output_type": "stream",
     "text": [
      "RMSLE: 0.29\n"
     ]
    }
   ],
   "source": [
    "print(\"RMSLE: {0:.2f}\".format(compute_rmsle(df_test['count'], df_test['pred_count'])))"
   ]
  },
  {
   "cell_type": "markdown",
   "metadata": {
    "colab_type": "text",
    "id": "0EyTwUVVYdHF"
   },
   "source": [
    "### Prepare Data for Submission to Kaggle"
   ]
  },
  {
   "cell_type": "code",
   "execution_count": 25,
   "metadata": {
    "colab": {
     "base_uri": "https://localhost:8080/",
     "height": 204
    },
    "colab_type": "code",
    "executionInfo": {
     "elapsed": 462,
     "status": "ok",
     "timestamp": 1591123996254,
     "user": {
      "displayName": "Robins Yadav",
      "photoUrl": "",
      "userId": "09341548175987336254"
     },
     "user_tz": 420
    },
    "id": "x9GtXJedHbbw",
    "outputId": "5bce3459-27a3-4d29-c8ce-f9fc3e094385"
   },
   "outputs": [
    {
     "data": {
      "text/html": [
       "<div>\n",
       "<style scoped>\n",
       "    .dataframe tbody tr th:only-of-type {\n",
       "        vertical-align: middle;\n",
       "    }\n",
       "\n",
       "    .dataframe tbody tr th {\n",
       "        vertical-align: top;\n",
       "    }\n",
       "\n",
       "    .dataframe thead th {\n",
       "        text-align: right;\n",
       "    }\n",
       "</style>\n",
       "<table border=\"1\" class=\"dataframe\">\n",
       "  <thead>\n",
       "    <tr style=\"text-align: right;\">\n",
       "      <th></th>\n",
       "      <th>datetime</th>\n",
       "      <th>season</th>\n",
       "      <th>holiday</th>\n",
       "      <th>workingday</th>\n",
       "      <th>weather</th>\n",
       "      <th>temp</th>\n",
       "      <th>atemp</th>\n",
       "      <th>humidity</th>\n",
       "      <th>windspeed</th>\n",
       "      <th>year</th>\n",
       "      <th>month</th>\n",
       "      <th>day</th>\n",
       "      <th>dayofweek</th>\n",
       "      <th>hour</th>\n",
       "    </tr>\n",
       "  </thead>\n",
       "  <tbody>\n",
       "    <tr>\n",
       "      <th>0</th>\n",
       "      <td>2011-01-20 00:00:00</td>\n",
       "      <td>1</td>\n",
       "      <td>0</td>\n",
       "      <td>1</td>\n",
       "      <td>1</td>\n",
       "      <td>10.66</td>\n",
       "      <td>11.365</td>\n",
       "      <td>56</td>\n",
       "      <td>26.0027</td>\n",
       "      <td>2011</td>\n",
       "      <td>1</td>\n",
       "      <td>20</td>\n",
       "      <td>3</td>\n",
       "      <td>0</td>\n",
       "    </tr>\n",
       "    <tr>\n",
       "      <th>1</th>\n",
       "      <td>2011-01-20 01:00:00</td>\n",
       "      <td>1</td>\n",
       "      <td>0</td>\n",
       "      <td>1</td>\n",
       "      <td>1</td>\n",
       "      <td>10.66</td>\n",
       "      <td>13.635</td>\n",
       "      <td>56</td>\n",
       "      <td>0.0000</td>\n",
       "      <td>2011</td>\n",
       "      <td>1</td>\n",
       "      <td>20</td>\n",
       "      <td>3</td>\n",
       "      <td>1</td>\n",
       "    </tr>\n",
       "    <tr>\n",
       "      <th>2</th>\n",
       "      <td>2011-01-20 02:00:00</td>\n",
       "      <td>1</td>\n",
       "      <td>0</td>\n",
       "      <td>1</td>\n",
       "      <td>1</td>\n",
       "      <td>10.66</td>\n",
       "      <td>13.635</td>\n",
       "      <td>56</td>\n",
       "      <td>0.0000</td>\n",
       "      <td>2011</td>\n",
       "      <td>1</td>\n",
       "      <td>20</td>\n",
       "      <td>3</td>\n",
       "      <td>2</td>\n",
       "    </tr>\n",
       "    <tr>\n",
       "      <th>3</th>\n",
       "      <td>2011-01-20 03:00:00</td>\n",
       "      <td>1</td>\n",
       "      <td>0</td>\n",
       "      <td>1</td>\n",
       "      <td>1</td>\n",
       "      <td>10.66</td>\n",
       "      <td>12.880</td>\n",
       "      <td>56</td>\n",
       "      <td>11.0014</td>\n",
       "      <td>2011</td>\n",
       "      <td>1</td>\n",
       "      <td>20</td>\n",
       "      <td>3</td>\n",
       "      <td>3</td>\n",
       "    </tr>\n",
       "    <tr>\n",
       "      <th>4</th>\n",
       "      <td>2011-01-20 04:00:00</td>\n",
       "      <td>1</td>\n",
       "      <td>0</td>\n",
       "      <td>1</td>\n",
       "      <td>1</td>\n",
       "      <td>10.66</td>\n",
       "      <td>12.880</td>\n",
       "      <td>56</td>\n",
       "      <td>11.0014</td>\n",
       "      <td>2011</td>\n",
       "      <td>1</td>\n",
       "      <td>20</td>\n",
       "      <td>3</td>\n",
       "      <td>4</td>\n",
       "    </tr>\n",
       "  </tbody>\n",
       "</table>\n",
       "</div>"
      ],
      "text/plain": [
       "             datetime  season  holiday  workingday  weather   temp   atemp  \\\n",
       "0 2011-01-20 00:00:00       1        0           1        1  10.66  11.365   \n",
       "1 2011-01-20 01:00:00       1        0           1        1  10.66  13.635   \n",
       "2 2011-01-20 02:00:00       1        0           1        1  10.66  13.635   \n",
       "3 2011-01-20 03:00:00       1        0           1        1  10.66  12.880   \n",
       "4 2011-01-20 04:00:00       1        0           1        1  10.66  12.880   \n",
       "\n",
       "   humidity  windspeed  year  month  day  dayofweek  hour  \n",
       "0        56    26.0027  2011      1   20          3     0  \n",
       "1        56     0.0000  2011      1   20          3     1  \n",
       "2        56     0.0000  2011      1   20          3     2  \n",
       "3        56    11.0014  2011      1   20          3     3  \n",
       "4        56    11.0014  2011      1   20          3     4  "
      ]
     },
     "execution_count": 25,
     "metadata": {},
     "output_type": "execute_result"
    }
   ],
   "source": [
    "# Prepare Data for Submission to Kaggle\n",
    "df_org_test = pd.read_csv(\"rob_bike_test.csv\", parse_dates=['datetime'])\n",
    "df_org_test.head()"
   ]
  },
  {
   "cell_type": "code",
   "execution_count": 26,
   "metadata": {
    "colab": {
     "base_uri": "https://localhost:8080/",
     "height": 204
    },
    "colab_type": "code",
    "executionInfo": {
     "elapsed": 972,
     "status": "ok",
     "timestamp": 1591124088568,
     "user": {
      "displayName": "Robins Yadav",
      "photoUrl": "",
      "userId": "09341548175987336254"
     },
     "user_tz": 420
    },
    "id": "uYhuzBtNHbb9",
    "outputId": "82917915-fb22-4d18-9832-83b93e000aa5"
   },
   "outputs": [
    {
     "data": {
      "text/html": [
       "<div>\n",
       "<style scoped>\n",
       "    .dataframe tbody tr th:only-of-type {\n",
       "        vertical-align: middle;\n",
       "    }\n",
       "\n",
       "    .dataframe tbody tr th {\n",
       "        vertical-align: top;\n",
       "    }\n",
       "\n",
       "    .dataframe thead th {\n",
       "        text-align: right;\n",
       "    }\n",
       "</style>\n",
       "<table border=\"1\" class=\"dataframe\">\n",
       "  <thead>\n",
       "    <tr style=\"text-align: right;\">\n",
       "      <th></th>\n",
       "      <th>season</th>\n",
       "      <th>holiday</th>\n",
       "      <th>workingday</th>\n",
       "      <th>weather</th>\n",
       "      <th>temp</th>\n",
       "      <th>atemp</th>\n",
       "      <th>humidity</th>\n",
       "      <th>windspeed</th>\n",
       "      <th>year</th>\n",
       "      <th>month</th>\n",
       "      <th>day</th>\n",
       "      <th>dayofweek</th>\n",
       "      <th>hour</th>\n",
       "    </tr>\n",
       "  </thead>\n",
       "  <tbody>\n",
       "    <tr>\n",
       "      <th>0</th>\n",
       "      <td>1</td>\n",
       "      <td>0</td>\n",
       "      <td>1</td>\n",
       "      <td>1</td>\n",
       "      <td>10.66</td>\n",
       "      <td>11.365</td>\n",
       "      <td>56</td>\n",
       "      <td>26.0027</td>\n",
       "      <td>2011</td>\n",
       "      <td>1</td>\n",
       "      <td>20</td>\n",
       "      <td>3</td>\n",
       "      <td>0</td>\n",
       "    </tr>\n",
       "    <tr>\n",
       "      <th>1</th>\n",
       "      <td>1</td>\n",
       "      <td>0</td>\n",
       "      <td>1</td>\n",
       "      <td>1</td>\n",
       "      <td>10.66</td>\n",
       "      <td>13.635</td>\n",
       "      <td>56</td>\n",
       "      <td>0.0000</td>\n",
       "      <td>2011</td>\n",
       "      <td>1</td>\n",
       "      <td>20</td>\n",
       "      <td>3</td>\n",
       "      <td>1</td>\n",
       "    </tr>\n",
       "    <tr>\n",
       "      <th>2</th>\n",
       "      <td>1</td>\n",
       "      <td>0</td>\n",
       "      <td>1</td>\n",
       "      <td>1</td>\n",
       "      <td>10.66</td>\n",
       "      <td>13.635</td>\n",
       "      <td>56</td>\n",
       "      <td>0.0000</td>\n",
       "      <td>2011</td>\n",
       "      <td>1</td>\n",
       "      <td>20</td>\n",
       "      <td>3</td>\n",
       "      <td>2</td>\n",
       "    </tr>\n",
       "    <tr>\n",
       "      <th>3</th>\n",
       "      <td>1</td>\n",
       "      <td>0</td>\n",
       "      <td>1</td>\n",
       "      <td>1</td>\n",
       "      <td>10.66</td>\n",
       "      <td>12.880</td>\n",
       "      <td>56</td>\n",
       "      <td>11.0014</td>\n",
       "      <td>2011</td>\n",
       "      <td>1</td>\n",
       "      <td>20</td>\n",
       "      <td>3</td>\n",
       "      <td>3</td>\n",
       "    </tr>\n",
       "    <tr>\n",
       "      <th>4</th>\n",
       "      <td>1</td>\n",
       "      <td>0</td>\n",
       "      <td>1</td>\n",
       "      <td>1</td>\n",
       "      <td>10.66</td>\n",
       "      <td>12.880</td>\n",
       "      <td>56</td>\n",
       "      <td>11.0014</td>\n",
       "      <td>2011</td>\n",
       "      <td>1</td>\n",
       "      <td>20</td>\n",
       "      <td>3</td>\n",
       "      <td>4</td>\n",
       "    </tr>\n",
       "  </tbody>\n",
       "</table>\n",
       "</div>"
      ],
      "text/plain": [
       "   season  holiday  workingday  weather   temp   atemp  humidity  windspeed  \\\n",
       "0       1        0           1        1  10.66  11.365        56    26.0027   \n",
       "1       1        0           1        1  10.66  13.635        56     0.0000   \n",
       "2       1        0           1        1  10.66  13.635        56     0.0000   \n",
       "3       1        0           1        1  10.66  12.880        56    11.0014   \n",
       "4       1        0           1        1  10.66  12.880        56    11.0014   \n",
       "\n",
       "   year  month  day  dayofweek  hour  \n",
       "0  2011      1   20          3     0  \n",
       "1  2011      1   20          3     1  \n",
       "2  2011      1   20          3     2  \n",
       "3  2011      1   20          3     3  \n",
       "4  2011      1   20          3     4  "
      ]
     },
     "execution_count": 26,
     "metadata": {},
     "output_type": "execute_result"
    }
   ],
   "source": [
    "test_X =  df_org_test.iloc[:,1:] # Exclude datetime for prediction\n",
    "test_X.head()"
   ]
  },
  {
   "cell_type": "code",
   "execution_count": 27,
   "metadata": {
    "colab": {
     "base_uri": "https://localhost:8080/",
     "height": 68
    },
    "colab_type": "code",
    "executionInfo": {
     "elapsed": 602,
     "status": "ok",
     "timestamp": 1591124161095,
     "user": {
      "displayName": "Robins Yadav",
      "photoUrl": "",
      "userId": "09341548175987336254"
     },
     "user_tz": 420
    },
    "id": "_UFmhwXTHbcS",
    "outputId": "ff33cc03-7d9d-4cbe-d734-8272eda56d76"
   },
   "outputs": [
    {
     "name": "stdout",
     "output_type": "stream",
     "text": [
      "[2.3321223  1.9005593  1.6316103  1.0376964  0.95743227]\n"
     ]
    },
    {
     "data": {
      "text/plain": [
       "array([  9.299778,   5.689635,   4.1121  , ..., 133.68597 ,  92.35798 ,\n",
       "        52.00194 ], dtype=float32)"
      ]
     },
     "execution_count": 27,
     "metadata": {},
     "output_type": "execute_result"
    }
   ],
   "source": [
    "## Prediction original test data\n",
    "result = regressor.predict(test_X)\n",
    "print(result[:5])\n",
    "\n",
    "## Inverse the log transformation\n",
    "np.expm1(result)"
   ]
  },
  {
   "cell_type": "code",
   "execution_count": 28,
   "metadata": {
    "colab": {
     "base_uri": "https://localhost:8080/",
     "height": 204
    },
    "colab_type": "code",
    "executionInfo": {
     "elapsed": 365,
     "status": "ok",
     "timestamp": 1591124305774,
     "user": {
      "displayName": "Robins Yadav",
      "photoUrl": "",
      "userId": "09341548175987336254"
     },
     "user_tz": 420
    },
    "id": "f3X4vr0yHbc1",
    "outputId": "6244ca26-5786-4b81-a195-629ac8c59ca3"
   },
   "outputs": [
    {
     "data": {
      "text/html": [
       "<div>\n",
       "<style scoped>\n",
       "    .dataframe tbody tr th:only-of-type {\n",
       "        vertical-align: middle;\n",
       "    }\n",
       "\n",
       "    .dataframe tbody tr th {\n",
       "        vertical-align: top;\n",
       "    }\n",
       "\n",
       "    .dataframe thead th {\n",
       "        text-align: right;\n",
       "    }\n",
       "</style>\n",
       "<table border=\"1\" class=\"dataframe\">\n",
       "  <thead>\n",
       "    <tr style=\"text-align: right;\">\n",
       "      <th></th>\n",
       "      <th>datetime</th>\n",
       "      <th>season</th>\n",
       "      <th>holiday</th>\n",
       "      <th>workingday</th>\n",
       "      <th>weather</th>\n",
       "      <th>temp</th>\n",
       "      <th>atemp</th>\n",
       "      <th>humidity</th>\n",
       "      <th>windspeed</th>\n",
       "      <th>year</th>\n",
       "      <th>month</th>\n",
       "      <th>day</th>\n",
       "      <th>dayofweek</th>\n",
       "      <th>hour</th>\n",
       "      <th>count</th>\n",
       "    </tr>\n",
       "  </thead>\n",
       "  <tbody>\n",
       "    <tr>\n",
       "      <th>0</th>\n",
       "      <td>2011-01-20 00:00:00</td>\n",
       "      <td>1</td>\n",
       "      <td>0</td>\n",
       "      <td>1</td>\n",
       "      <td>1</td>\n",
       "      <td>10.66</td>\n",
       "      <td>11.365</td>\n",
       "      <td>56</td>\n",
       "      <td>26.0027</td>\n",
       "      <td>2011</td>\n",
       "      <td>1</td>\n",
       "      <td>20</td>\n",
       "      <td>3</td>\n",
       "      <td>0</td>\n",
       "      <td>9.299778</td>\n",
       "    </tr>\n",
       "    <tr>\n",
       "      <th>1</th>\n",
       "      <td>2011-01-20 01:00:00</td>\n",
       "      <td>1</td>\n",
       "      <td>0</td>\n",
       "      <td>1</td>\n",
       "      <td>1</td>\n",
       "      <td>10.66</td>\n",
       "      <td>13.635</td>\n",
       "      <td>56</td>\n",
       "      <td>0.0000</td>\n",
       "      <td>2011</td>\n",
       "      <td>1</td>\n",
       "      <td>20</td>\n",
       "      <td>3</td>\n",
       "      <td>1</td>\n",
       "      <td>5.689635</td>\n",
       "    </tr>\n",
       "    <tr>\n",
       "      <th>2</th>\n",
       "      <td>2011-01-20 02:00:00</td>\n",
       "      <td>1</td>\n",
       "      <td>0</td>\n",
       "      <td>1</td>\n",
       "      <td>1</td>\n",
       "      <td>10.66</td>\n",
       "      <td>13.635</td>\n",
       "      <td>56</td>\n",
       "      <td>0.0000</td>\n",
       "      <td>2011</td>\n",
       "      <td>1</td>\n",
       "      <td>20</td>\n",
       "      <td>3</td>\n",
       "      <td>2</td>\n",
       "      <td>4.112100</td>\n",
       "    </tr>\n",
       "    <tr>\n",
       "      <th>3</th>\n",
       "      <td>2011-01-20 03:00:00</td>\n",
       "      <td>1</td>\n",
       "      <td>0</td>\n",
       "      <td>1</td>\n",
       "      <td>1</td>\n",
       "      <td>10.66</td>\n",
       "      <td>12.880</td>\n",
       "      <td>56</td>\n",
       "      <td>11.0014</td>\n",
       "      <td>2011</td>\n",
       "      <td>1</td>\n",
       "      <td>20</td>\n",
       "      <td>3</td>\n",
       "      <td>3</td>\n",
       "      <td>1.822707</td>\n",
       "    </tr>\n",
       "    <tr>\n",
       "      <th>4</th>\n",
       "      <td>2011-01-20 04:00:00</td>\n",
       "      <td>1</td>\n",
       "      <td>0</td>\n",
       "      <td>1</td>\n",
       "      <td>1</td>\n",
       "      <td>10.66</td>\n",
       "      <td>12.880</td>\n",
       "      <td>56</td>\n",
       "      <td>11.0014</td>\n",
       "      <td>2011</td>\n",
       "      <td>1</td>\n",
       "      <td>20</td>\n",
       "      <td>3</td>\n",
       "      <td>4</td>\n",
       "      <td>1.604999</td>\n",
       "    </tr>\n",
       "  </tbody>\n",
       "</table>\n",
       "</div>"
      ],
      "text/plain": [
       "             datetime  season  holiday  workingday  weather   temp   atemp  \\\n",
       "0 2011-01-20 00:00:00       1        0           1        1  10.66  11.365   \n",
       "1 2011-01-20 01:00:00       1        0           1        1  10.66  13.635   \n",
       "2 2011-01-20 02:00:00       1        0           1        1  10.66  13.635   \n",
       "3 2011-01-20 03:00:00       1        0           1        1  10.66  12.880   \n",
       "4 2011-01-20 04:00:00       1        0           1        1  10.66  12.880   \n",
       "\n",
       "   humidity  windspeed  year  month  day  dayofweek  hour     count  \n",
       "0        56    26.0027  2011      1   20          3     0  9.299778  \n",
       "1        56     0.0000  2011      1   20          3     1  5.689635  \n",
       "2        56     0.0000  2011      1   20          3     2  4.112100  \n",
       "3        56    11.0014  2011      1   20          3     3  1.822707  \n",
       "4        56    11.0014  2011      1   20          3     4  1.604999  "
      ]
     },
     "execution_count": 28,
     "metadata": {},
     "output_type": "execute_result"
    }
   ],
   "source": [
    "# Convert result to actual count\n",
    "df_org_test[\"count\"] = np.expm1(result)\n",
    "df_org_test.head()"
   ]
  },
  {
   "cell_type": "code",
   "execution_count": 29,
   "metadata": {
    "colab": {
     "base_uri": "https://localhost:8080/",
     "height": 49
    },
    "colab_type": "code",
    "executionInfo": {
     "elapsed": 574,
     "status": "ok",
     "timestamp": 1591124344638,
     "user": {
      "displayName": "Robins Yadav",
      "photoUrl": "",
      "userId": "09341548175987336254"
     },
     "user_tz": 420
    },
    "id": "mmhZ7Cl_Hbc-",
    "outputId": "b82b41fa-2326-4539-f0fd-b1e7fe0a6ed5"
   },
   "outputs": [
    {
     "data": {
      "text/html": [
       "<div>\n",
       "<style scoped>\n",
       "    .dataframe tbody tr th:only-of-type {\n",
       "        vertical-align: middle;\n",
       "    }\n",
       "\n",
       "    .dataframe tbody tr th {\n",
       "        vertical-align: top;\n",
       "    }\n",
       "\n",
       "    .dataframe thead th {\n",
       "        text-align: right;\n",
       "    }\n",
       "</style>\n",
       "<table border=\"1\" class=\"dataframe\">\n",
       "  <thead>\n",
       "    <tr style=\"text-align: right;\">\n",
       "      <th></th>\n",
       "      <th>datetime</th>\n",
       "      <th>season</th>\n",
       "      <th>holiday</th>\n",
       "      <th>workingday</th>\n",
       "      <th>weather</th>\n",
       "      <th>temp</th>\n",
       "      <th>atemp</th>\n",
       "      <th>humidity</th>\n",
       "      <th>windspeed</th>\n",
       "      <th>year</th>\n",
       "      <th>month</th>\n",
       "      <th>day</th>\n",
       "      <th>dayofweek</th>\n",
       "      <th>hour</th>\n",
       "      <th>count</th>\n",
       "    </tr>\n",
       "  </thead>\n",
       "  <tbody>\n",
       "  </tbody>\n",
       "</table>\n",
       "</div>"
      ],
      "text/plain": [
       "Empty DataFrame\n",
       "Columns: [datetime, season, holiday, workingday, weather, temp, atemp, humidity, windspeed, year, month, day, dayofweek, hour, count]\n",
       "Index: []"
      ]
     },
     "execution_count": 29,
     "metadata": {},
     "output_type": "execute_result"
    }
   ],
   "source": [
    "## check if count is less than 0-- which is not possible in real life\n",
    "df_org_test[df_org_test[\"count\"] < 0]"
   ]
  },
  {
   "cell_type": "code",
   "execution_count": 30,
   "metadata": {
    "colab": {},
    "colab_type": "code",
    "id": "jPWnDzXdHbdH"
   },
   "outputs": [],
   "source": [
    "df_org_test[['datetime','count']].to_csv('predicted_count.csv',index=False)"
   ]
  },
  {
   "cell_type": "code",
   "execution_count": 31,
   "metadata": {
    "colab": {
     "base_uri": "https://localhost:8080/",
     "height": 204
    },
    "colab_type": "code",
    "executionInfo": {
     "elapsed": 602,
     "status": "ok",
     "timestamp": 1591124431664,
     "user": {
      "displayName": "Robins Yadav",
      "photoUrl": "",
      "userId": "09341548175987336254"
     },
     "user_tz": 420
    },
    "id": "KxwSJDuWZ1Ss",
    "outputId": "f7bc402d-6973-4013-e04a-470b333226ad"
   },
   "outputs": [
    {
     "data": {
      "text/html": [
       "<div>\n",
       "<style scoped>\n",
       "    .dataframe tbody tr th:only-of-type {\n",
       "        vertical-align: middle;\n",
       "    }\n",
       "\n",
       "    .dataframe tbody tr th {\n",
       "        vertical-align: top;\n",
       "    }\n",
       "\n",
       "    .dataframe thead th {\n",
       "        text-align: right;\n",
       "    }\n",
       "</style>\n",
       "<table border=\"1\" class=\"dataframe\">\n",
       "  <thead>\n",
       "    <tr style=\"text-align: right;\">\n",
       "      <th></th>\n",
       "      <th>datetime</th>\n",
       "      <th>count</th>\n",
       "    </tr>\n",
       "  </thead>\n",
       "  <tbody>\n",
       "    <tr>\n",
       "      <th>0</th>\n",
       "      <td>2011-01-20 00:00:00</td>\n",
       "      <td>9.299778</td>\n",
       "    </tr>\n",
       "    <tr>\n",
       "      <th>1</th>\n",
       "      <td>2011-01-20 01:00:00</td>\n",
       "      <td>5.689635</td>\n",
       "    </tr>\n",
       "    <tr>\n",
       "      <th>2</th>\n",
       "      <td>2011-01-20 02:00:00</td>\n",
       "      <td>4.112100</td>\n",
       "    </tr>\n",
       "    <tr>\n",
       "      <th>3</th>\n",
       "      <td>2011-01-20 03:00:00</td>\n",
       "      <td>1.822707</td>\n",
       "    </tr>\n",
       "    <tr>\n",
       "      <th>4</th>\n",
       "      <td>2011-01-20 04:00:00</td>\n",
       "      <td>1.604999</td>\n",
       "    </tr>\n",
       "  </tbody>\n",
       "</table>\n",
       "</div>"
      ],
      "text/plain": [
       "              datetime     count\n",
       "0  2011-01-20 00:00:00  9.299778\n",
       "1  2011-01-20 01:00:00  5.689635\n",
       "2  2011-01-20 02:00:00  4.112100\n",
       "3  2011-01-20 03:00:00  1.822707\n",
       "4  2011-01-20 04:00:00  1.604999"
      ]
     },
     "execution_count": 31,
     "metadata": {},
     "output_type": "execute_result"
    }
   ],
   "source": [
    "sub = pd.read_csv(\"predicted_count.csv\")\n",
    "sub.head()"
   ]
  },
  {
   "cell_type": "code",
   "execution_count": 32,
   "metadata": {
    "colab": {},
    "colab_type": "code",
    "id": "EbczrfBMHbdM"
   },
   "outputs": [],
   "source": [
    "# RMSLE (Kaggle) Score\n",
    "# Test 1: 0.62\n",
    "# Test 2(log of count): 0.40"
   ]
  },
  {
   "cell_type": "code",
   "execution_count": null,
   "metadata": {
    "colab": {},
    "colab_type": "code",
    "id": "5p39FzaQHbdX"
   },
   "outputs": [],
   "source": []
  }
 ],
 "metadata": {
  "colab": {
   "collapsed_sections": [],
   "name": "bikerental_xgboost_localmode.ipynb",
   "provenance": []
  },
  "kernelspec": {
   "display_name": "conda_python3",
   "language": "python",
   "name": "conda_python3"
  },
  "language_info": {
   "codemirror_mode": {
    "name": "ipython",
    "version": 3
   },
   "file_extension": ".py",
   "mimetype": "text/x-python",
   "name": "python",
   "nbconvert_exporter": "python",
   "pygments_lexer": "ipython3",
   "version": "3.6.5"
  }
 },
 "nbformat": 4,
 "nbformat_minor": 1
}
