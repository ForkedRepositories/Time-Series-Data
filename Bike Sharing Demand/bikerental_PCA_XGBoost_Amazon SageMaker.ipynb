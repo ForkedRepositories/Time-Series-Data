{
 "cells": [
  {
   "cell_type": "code",
   "execution_count": 1,
   "metadata": {},
   "outputs": [],
   "source": [
    "import numpy as np\n",
    "import pandas as pd\n",
    "\n",
    "# Define IAM role\n",
    "import boto3\n",
    "import re\n",
    "import sagemaker\n",
    "from sagemaker import get_execution_role\n",
    "\n",
    "# SageMaker SDK Documentation: http://sagemaker.readthedocs.io/en/latest/estimators.html"
   ]
  },
  {
   "cell_type": "markdown",
   "metadata": {},
   "source": [
    "## Upload Data to S3"
   ]
  },
  {
   "cell_type": "code",
   "execution_count": 2,
   "metadata": {},
   "outputs": [],
   "source": [
    "bucket_name = 'robiny-ml-sagemaker'\n",
    "training_file_key = 'biketrain/bike_train_numeric_columns.recordio'\n",
    "\n",
    "s3_model_output_location = r's3://{0}/biketrain/model'.format(bucket_name)\n",
    "s3_training_file_location = r's3://{0}/{1}'.format(bucket_name,training_file_key)"
   ]
  },
  {
   "cell_type": "code",
   "execution_count": 3,
   "metadata": {},
   "outputs": [
    {
     "name": "stdout",
     "output_type": "stream",
     "text": [
      "s3://robiny-ml-sagemaker/biketrain/model\n",
      "s3://robiny-ml-sagemaker/biketrain/bike_train_numeric_columns.recordio\n"
     ]
    }
   ],
   "source": [
    "print(s3_model_output_location)\n",
    "print(s3_training_file_location)"
   ]
  },
  {
   "cell_type": "code",
   "execution_count": 4,
   "metadata": {},
   "outputs": [],
   "source": [
    "# Write and Reading from S3 is just as easy\n",
    "# files are referred as objects in S3.  \n",
    "# file name is referred as key name in S3\n",
    "# Files stored in S3 are automatically replicated across 3 different availability zones \n",
    "# in the region where the bucket was created.\n",
    "\n",
    "# http://boto3.readthedocs.io/en/latest/guide/s3.html\n",
    "def write_to_s3(filename, bucket, key):\n",
    "    with open(filename,'rb') as f: # Read in binary mode\n",
    "        return boto3.Session().resource('s3').Bucket(bucket).Object(key).upload_fileobj(f)"
   ]
  },
  {
   "cell_type": "code",
   "execution_count": 5,
   "metadata": {},
   "outputs": [],
   "source": [
    "write_to_s3('rob-bike_train_numeric_columns.recordio', bucket_name, training_file_key)"
   ]
  },
  {
   "cell_type": "markdown",
   "metadata": {},
   "source": [
    "## Training Algorithm Docker Image\n",
    "### AWS Maintains a separate image for every region and algorithm"
   ]
  },
  {
   "cell_type": "code",
   "execution_count": 6,
   "metadata": {},
   "outputs": [],
   "source": [
    "# # Registry Path for algorithms provided by SageMaker\n",
    "# #  https://docs.aws.amazon.com/sagemaker/latest/dg/sagemaker-algo-docker-registry-paths.html\n",
    "# containers = {'us-west-2': '174872318107.dkr.ecr.us-west-2.amazonaws.com/pca:latest',\n",
    "#               'us-east-1': '382416733822.dkr.ecr.us-east-1.amazonaws.com/pca:latest',\n",
    "#               'us-east-2': '404615174143.dkr.ecr.us-east-2.amazonaws.com/pca:latest',\n",
    "#               'eu-west-1': '438346466558.dkr.ecr.eu-west-1.amazonaws.com/pca:latest'}\n",
    "\n",
    "# We no longer have to maintain a mapping of container images by region\n",
    "# Simply use the convenience method provided by sagemaker\n",
    "# https://docs.aws.amazon.com/sagemaker/latest/dg/sagemaker-algo-docker-registry-paths.html\n",
    "from sagemaker.amazon.amazon_estimator import get_image_uri\n",
    "image_name = get_image_uri(boto3.Session().region_name, 'pca')"
   ]
  },
  {
   "cell_type": "code",
   "execution_count": 7,
   "metadata": {},
   "outputs": [
    {
     "data": {
      "text/plain": [
       "'632365934929.dkr.ecr.us-west-1.amazonaws.com/pca:1'"
      ]
     },
     "execution_count": 7,
     "metadata": {},
     "output_type": "execute_result"
    }
   ],
   "source": [
    "image_name"
   ]
  },
  {
   "cell_type": "code",
   "execution_count": 8,
   "metadata": {},
   "outputs": [],
   "source": [
    "role = get_execution_role()"
   ]
  },
  {
   "cell_type": "code",
   "execution_count": 9,
   "metadata": {},
   "outputs": [
    {
     "name": "stdout",
     "output_type": "stream",
     "text": [
      "arn:aws:iam::501191679407:role/service-role/AmazonSageMaker-ExecutionRole-20200530T140508\n"
     ]
    }
   ],
   "source": [
    "# This role contains the permissions needed to train, deploy models\n",
    "# SageMaker Service is trusted to assume this role\n",
    "print(role)"
   ]
  },
  {
   "cell_type": "markdown",
   "metadata": {},
   "source": [
    "## Build Model"
   ]
  },
  {
   "cell_type": "code",
   "execution_count": 10,
   "metadata": {},
   "outputs": [],
   "source": [
    "sess = sagemaker.Session()"
   ]
  },
  {
   "cell_type": "code",
   "execution_count": 11,
   "metadata": {},
   "outputs": [],
   "source": [
    "# Access appropriate algorithm container image\n",
    "#  Specify how many instances to use for distributed training and what type of machine to use\n",
    "#  Finally, specify where the trained model artifacts needs to be stored\n",
    "#   Reference: http://sagemaker.readthedocs.io/en/latest/estimators.html\n",
    "#    Optionally, give a name to the training job using base_job_name\n",
    "\n",
    "estimator = sagemaker.estimator.Estimator(image_name,\n",
    "                                       role, \n",
    "                                       train_instance_count=1, \n",
    "                                       train_instance_type='ml.m4.xlarge',\n",
    "                                       output_path=s3_model_output_location,\n",
    "                                       sagemaker_session=sess,\n",
    "                                       base_job_name ='pca-biketrain')"
   ]
  },
  {
   "cell_type": "code",
   "execution_count": 12,
   "metadata": {},
   "outputs": [],
   "source": [
    "# Specify hyper parameters that appropriate for the training algorithm\n",
    "estimator.set_hyperparameters(feature_dim=4, # No. of Input features\n",
    "                        num_components=3, # No. of prinicipal components to compute\n",
    "                        subtract_mean=False, # Indicated whether the data should be unbiased both during training\n",
    "                        algorithm_mode='regular', # Mode of computing the principal components\n",
    "                        mini_batch_size=200) # No. of rows in a mini-batch"
   ]
  },
  {
   "cell_type": "code",
   "execution_count": 13,
   "metadata": {},
   "outputs": [
    {
     "data": {
      "text/plain": [
       "{'feature_dim': 4,\n",
       " 'num_components': 3,\n",
       " 'subtract_mean': False,\n",
       " 'algorithm_mode': 'regular',\n",
       " 'mini_batch_size': 200}"
      ]
     },
     "execution_count": 13,
     "metadata": {},
     "output_type": "execute_result"
    }
   ],
   "source": [
    "estimator.hyperparameters()"
   ]
  },
  {
   "cell_type": "markdown",
   "metadata": {},
   "source": [
    "### Train the model"
   ]
  },
  {
   "cell_type": "code",
   "execution_count": 14,
   "metadata": {},
   "outputs": [
    {
     "name": "stdout",
     "output_type": "stream",
     "text": [
      "2020-06-03 06:02:23 Starting - Starting the training job...\n",
      "2020-06-03 06:02:26 Starting - Launching requested ML instances......\n",
      "2020-06-03 06:03:34 Starting - Preparing the instances for training......\n",
      "2020-06-03 06:04:41 Downloading - Downloading input data...\n",
      "2020-06-03 06:05:16 Training - Downloading the training image..\u001b[34mDocker entrypoint called with argument(s): train\u001b[0m\n",
      "\u001b[34mRunning default environment configuration script\u001b[0m\n",
      "\u001b[34m[06/03/2020 06:05:38 INFO 140659398784832] Reading default configuration from /opt/amazon/lib/python2.7/site-packages/algorithm/resources/default-conf.json: {u'_num_gpus': u'auto', u'_log_level': u'info', u'subtract_mean': u'true', u'force_dense': u'true', u'epochs': 1, u'algorithm_mode': u'regular', u'extra_components': u'-1', u'_kvstore': u'dist_sync', u'_num_kv_servers': u'auto'}\u001b[0m\n",
      "\u001b[34m[06/03/2020 06:05:38 INFO 140659398784832] Reading provided configuration from /opt/ml/input/config/hyperparameters.json: {u'algorithm_mode': u'regular', u'feature_dim': u'4', u'mini_batch_size': u'200', u'subtract_mean': u'False', u'num_components': u'3'}\u001b[0m\n",
      "\u001b[34m[06/03/2020 06:05:38 INFO 140659398784832] Final configuration: {u'num_components': u'3', u'_num_gpus': u'auto', u'_log_level': u'info', u'subtract_mean': u'False', u'force_dense': u'true', u'epochs': 1, u'algorithm_mode': u'regular', u'feature_dim': u'4', u'extra_components': u'-1', u'_kvstore': u'dist_sync', u'_num_kv_servers': u'auto', u'mini_batch_size': u'200'}\u001b[0m\n",
      "\u001b[34m[06/03/2020 06:05:38 WARNING 140659398784832] Loggers have already been setup.\u001b[0m\n",
      "\u001b[34m[06/03/2020 06:05:39 INFO 140659398784832] Launching parameter server for role scheduler\u001b[0m\n",
      "\u001b[34m[06/03/2020 06:05:39 INFO 140659398784832] {'ECS_CONTAINER_METADATA_URI': 'http://169.254.170.2/v3/1f39d2c2-937e-4d86-95d8-a649ed7c34b0', 'PROTOCOL_BUFFERS_PYTHON_IMPLEMENTATION_VERSION': '2', 'PATH': '/opt/amazon/bin:/usr/local/nvidia/bin:/usr/local/sbin:/usr/local/bin:/usr/sbin:/usr/bin:/sbin:/bin:/opt/amazon/bin:/opt/amazon/bin', 'SAGEMAKER_HTTP_PORT': '8080', 'HOME': '/root', 'PYTHONUNBUFFERED': 'TRUE', 'CANONICAL_ENVROOT': '/opt/amazon', 'LD_LIBRARY_PATH': '/opt/amazon/lib/python2.7/site-packages/cv2/../../../../lib:/usr/local/nvidia/lib64:/opt/amazon/lib', 'LANG': 'en_US.utf8', 'DMLC_INTERFACE': 'eth0', 'SHLVL': '1', 'AWS_REGION': 'us-west-1', 'NVIDIA_VISIBLE_DEVICES': 'void', 'TRAINING_JOB_NAME': 'pca-biketrain-2020-06-03-06-02-22-955', 'PROTOCOL_BUFFERS_PYTHON_IMPLEMENTATION': 'cpp', 'ENVROOT': '/opt/amazon', 'SAGEMAKER_DATA_PATH': '/opt/ml', 'NVIDIA_DRIVER_CAPABILITIES': 'compute,utility', 'NVIDIA_REQUIRE_CUDA': 'cuda>=9.0', 'OMP_NUM_THREADS': '2', 'HOSTNAME': 'ip-10-0-102-51.us-west-1.compute.internal', 'AWS_CONTAINER_CREDENTIALS_RELATIVE_URI': '/v2/credentials/ac22bd30-2f4a-4087-9978-75ff28c1688d', 'PWD': '/', 'TRAINING_JOB_ARN': 'arn:aws:sagemaker:us-west-1:501191679407:training-job/pca-biketrain-2020-06-03-06-02-22-955', 'AWS_EXECUTION_ENV': 'AWS_ECS_EC2'}\u001b[0m\n",
      "\u001b[34m[06/03/2020 06:05:39 INFO 140659398784832] envs={'ECS_CONTAINER_METADATA_URI': 'http://169.254.170.2/v3/1f39d2c2-937e-4d86-95d8-a649ed7c34b0', 'PROTOCOL_BUFFERS_PYTHON_IMPLEMENTATION_VERSION': '2', 'DMLC_NUM_WORKER': '1', 'DMLC_PS_ROOT_PORT': '9000', 'PATH': '/opt/amazon/bin:/usr/local/nvidia/bin:/usr/local/sbin:/usr/local/bin:/usr/sbin:/usr/bin:/sbin:/bin:/opt/amazon/bin:/opt/amazon/bin', 'SAGEMAKER_HTTP_PORT': '8080', 'HOME': '/root', 'PYTHONUNBUFFERED': 'TRUE', 'CANONICAL_ENVROOT': '/opt/amazon', 'LD_LIBRARY_PATH': '/opt/amazon/lib/python2.7/site-packages/cv2/../../../../lib:/usr/local/nvidia/lib64:/opt/amazon/lib', 'LANG': 'en_US.utf8', 'DMLC_INTERFACE': 'eth0', 'SHLVL': '1', 'DMLC_PS_ROOT_URI': '10.0.102.51', 'AWS_REGION': 'us-west-1', 'NVIDIA_VISIBLE_DEVICES': 'void', 'TRAINING_JOB_NAME': 'pca-biketrain-2020-06-03-06-02-22-955', 'PROTOCOL_BUFFERS_PYTHON_IMPLEMENTATION': 'cpp', 'ENVROOT': '/opt/amazon', 'SAGEMAKER_DATA_PATH': '/opt/ml', 'NVIDIA_DRIVER_CAPABILITIES': 'compute,utility', 'NVIDIA_REQUIRE_CUDA': 'cuda>=9.0', 'OMP_NUM_THREADS': '2', 'HOSTNAME': 'ip-10-0-102-51.us-west-1.compute.internal', 'AWS_CONTAINER_CREDENTIALS_RELATIVE_URI': '/v2/credentials/ac22bd30-2f4a-4087-9978-75ff28c1688d', 'DMLC_ROLE': 'scheduler', 'PWD': '/', 'DMLC_NUM_SERVER': '1', 'TRAINING_JOB_ARN': 'arn:aws:sagemaker:us-west-1:501191679407:training-job/pca-biketrain-2020-06-03-06-02-22-955', 'AWS_EXECUTION_ENV': 'AWS_ECS_EC2'}\u001b[0m\n",
      "\u001b[34m[06/03/2020 06:05:39 INFO 140659398784832] Launching parameter server for role server\u001b[0m\n",
      "\u001b[34m[06/03/2020 06:05:39 INFO 140659398784832] {'ECS_CONTAINER_METADATA_URI': 'http://169.254.170.2/v3/1f39d2c2-937e-4d86-95d8-a649ed7c34b0', 'PROTOCOL_BUFFERS_PYTHON_IMPLEMENTATION_VERSION': '2', 'PATH': '/opt/amazon/bin:/usr/local/nvidia/bin:/usr/local/sbin:/usr/local/bin:/usr/sbin:/usr/bin:/sbin:/bin:/opt/amazon/bin:/opt/amazon/bin', 'SAGEMAKER_HTTP_PORT': '8080', 'HOME': '/root', 'PYTHONUNBUFFERED': 'TRUE', 'CANONICAL_ENVROOT': '/opt/amazon', 'LD_LIBRARY_PATH': '/opt/amazon/lib/python2.7/site-packages/cv2/../../../../lib:/usr/local/nvidia/lib64:/opt/amazon/lib', 'LANG': 'en_US.utf8', 'DMLC_INTERFACE': 'eth0', 'SHLVL': '1', 'AWS_REGION': 'us-west-1', 'NVIDIA_VISIBLE_DEVICES': 'void', 'TRAINING_JOB_NAME': 'pca-biketrain-2020-06-03-06-02-22-955', 'PROTOCOL_BUFFERS_PYTHON_IMPLEMENTATION': 'cpp', 'ENVROOT': '/opt/amazon', 'SAGEMAKER_DATA_PATH': '/opt/ml', 'NVIDIA_DRIVER_CAPABILITIES': 'compute,utility', 'NVIDIA_REQUIRE_CUDA': 'cuda>=9.0', 'OMP_NUM_THREADS': '2', 'HOSTNAME': 'ip-10-0-102-51.us-west-1.compute.internal', 'AWS_CONTAINER_CREDENTIALS_RELATIVE_URI': '/v2/credentials/ac22bd30-2f4a-4087-9978-75ff28c1688d', 'PWD': '/', 'TRAINING_JOB_ARN': 'arn:aws:sagemaker:us-west-1:501191679407:training-job/pca-biketrain-2020-06-03-06-02-22-955', 'AWS_EXECUTION_ENV': 'AWS_ECS_EC2'}\u001b[0m\n",
      "\u001b[34m[06/03/2020 06:05:39 INFO 140659398784832] envs={'ECS_CONTAINER_METADATA_URI': 'http://169.254.170.2/v3/1f39d2c2-937e-4d86-95d8-a649ed7c34b0', 'PROTOCOL_BUFFERS_PYTHON_IMPLEMENTATION_VERSION': '2', 'DMLC_NUM_WORKER': '1', 'DMLC_PS_ROOT_PORT': '9000', 'PATH': '/opt/amazon/bin:/usr/local/nvidia/bin:/usr/local/sbin:/usr/local/bin:/usr/sbin:/usr/bin:/sbin:/bin:/opt/amazon/bin:/opt/amazon/bin', 'SAGEMAKER_HTTP_PORT': '8080', 'HOME': '/root', 'PYTHONUNBUFFERED': 'TRUE', 'CANONICAL_ENVROOT': '/opt/amazon', 'LD_LIBRARY_PATH': '/opt/amazon/lib/python2.7/site-packages/cv2/../../../../lib:/usr/local/nvidia/lib64:/opt/amazon/lib', 'LANG': 'en_US.utf8', 'DMLC_INTERFACE': 'eth0', 'SHLVL': '1', 'DMLC_PS_ROOT_URI': '10.0.102.51', 'AWS_REGION': 'us-west-1', 'NVIDIA_VISIBLE_DEVICES': 'void', 'TRAINING_JOB_NAME': 'pca-biketrain-2020-06-03-06-02-22-955', 'PROTOCOL_BUFFERS_PYTHON_IMPLEMENTATION': 'cpp', 'ENVROOT': '/opt/amazon', 'SAGEMAKER_DATA_PATH': '/opt/ml', 'NVIDIA_DRIVER_CAPABILITIES': 'compute,utility', 'NVIDIA_REQUIRE_CUDA': 'cuda>=9.0', 'OMP_NUM_THREADS': '2', 'HOSTNAME': 'ip-10-0-102-51.us-west-1.compute.internal', 'AWS_CONTAINER_CREDENTIALS_RELATIVE_URI': '/v2/credentials/ac22bd30-2f4a-4087-9978-75ff28c1688d', 'DMLC_ROLE': 'server', 'PWD': '/', 'DMLC_NUM_SERVER': '1', 'TRAINING_JOB_ARN': 'arn:aws:sagemaker:us-west-1:501191679407:training-job/pca-biketrain-2020-06-03-06-02-22-955', 'AWS_EXECUTION_ENV': 'AWS_ECS_EC2'}\u001b[0m\n",
      "\u001b[34m[06/03/2020 06:05:39 INFO 140659398784832] Environment: {'ECS_CONTAINER_METADATA_URI': 'http://169.254.170.2/v3/1f39d2c2-937e-4d86-95d8-a649ed7c34b0', 'PROTOCOL_BUFFERS_PYTHON_IMPLEMENTATION_VERSION': '2', 'DMLC_PS_ROOT_PORT': '9000', 'DMLC_NUM_WORKER': '1', 'SAGEMAKER_HTTP_PORT': '8080', 'PATH': '/opt/amazon/bin:/usr/local/nvidia/bin:/usr/local/sbin:/usr/local/bin:/usr/sbin:/usr/bin:/sbin:/bin:/opt/amazon/bin:/opt/amazon/bin', 'PYTHONUNBUFFERED': 'TRUE', 'CANONICAL_ENVROOT': '/opt/amazon', 'LD_LIBRARY_PATH': '/opt/amazon/lib/python2.7/site-packages/cv2/../../../../lib:/usr/local/nvidia/lib64:/opt/amazon/lib', 'LANG': 'en_US.utf8', 'DMLC_INTERFACE': 'eth0', 'SHLVL': '1', 'DMLC_PS_ROOT_URI': '10.0.102.51', 'AWS_REGION': 'us-west-1', 'NVIDIA_VISIBLE_DEVICES': 'void', 'TRAINING_JOB_NAME': 'pca-biketrain-2020-06-03-06-02-22-955', 'HOME': '/root', 'PROTOCOL_BUFFERS_PYTHON_IMPLEMENTATION': 'cpp', 'ENVROOT': '/opt/amazon', 'SAGEMAKER_DATA_PATH': '/opt/ml', 'NVIDIA_DRIVER_CAPABILITIES': 'compute,utility', 'NVIDIA_REQUIRE_CUDA': 'cuda>=9.0', 'OMP_NUM_THREADS': '2', 'HOSTNAME': 'ip-10-0-102-51.us-west-1.compute.internal', 'AWS_CONTAINER_CREDENTIALS_RELATIVE_URI': '/v2/credentials/ac22bd30-2f4a-4087-9978-75ff28c1688d', 'DMLC_ROLE': 'worker', 'PWD': '/', 'DMLC_NUM_SERVER': '1', 'TRAINING_JOB_ARN': 'arn:aws:sagemaker:us-west-1:501191679407:training-job/pca-biketrain-2020-06-03-06-02-22-955', 'AWS_EXECUTION_ENV': 'AWS_ECS_EC2'}\u001b[0m\n",
      "\u001b[34mProcess 60 is a shell:scheduler.\u001b[0m\n",
      "\u001b[34mProcess 69 is a shell:server.\u001b[0m\n",
      "\u001b[34mProcess 1 is a worker.\u001b[0m\n",
      "\u001b[34m[06/03/2020 06:05:39 INFO 140659398784832] Using default worker.\u001b[0m\n",
      "\u001b[34m[06/03/2020 06:05:39 INFO 140659398784832] Loaded iterator creator application/x-recordio-protobuf for content type ('application/x-recordio-protobuf', '1.0')\u001b[0m\n",
      "\u001b[34m[06/03/2020 06:05:39 INFO 140659398784832] Loaded iterator creator application/x-labeled-vector-protobuf for content type ('application/x-labeled-vector-protobuf', '1.0')\u001b[0m\n",
      "\u001b[34m[06/03/2020 06:05:39 INFO 140659398784832] Loaded iterator creator protobuf for content type ('protobuf', '1.0')\u001b[0m\n",
      "\u001b[34m[06/03/2020 06:05:39 INFO 140659398784832] Create Store: dist_sync\u001b[0m\n",
      "\u001b[34m[06/03/2020 06:05:40 INFO 140659398784832] nvidia-smi took: 0.0252358913422 secs to identify 0 gpus\u001b[0m\n",
      "\u001b[34m[06/03/2020 06:05:40 INFO 140659398784832] Number of GPUs being used: 0\u001b[0m\n",
      "\u001b[34m[06/03/2020 06:05:40 INFO 140659398784832] The default executor is <PCAExecutor on cpu(0)>.\u001b[0m\n",
      "\u001b[34m[06/03/2020 06:05:40 INFO 140659398784832] 4 feature(s) found in 'data'.\u001b[0m\n",
      "\u001b[34m[06/03/2020 06:05:40 INFO 140659398784832] <PCAExecutor on cpu(0)> is assigned to batch slice from 0 to 199.\u001b[0m\n",
      "\u001b[34m#metrics {\"Metrics\": {\"initialize.time\": {\"count\": 1, \"max\": 740.4580116271973, \"sum\": 740.4580116271973, \"min\": 740.4580116271973}}, \"EndTime\": 1591164340.198725, \"Dimensions\": {\"Host\": \"algo-1\", \"Operation\": \"training\", \"Algorithm\": \"PCA\"}, \"StartTime\": 1591164339.434966}\n",
      "\u001b[0m\n",
      "\u001b[34m#metrics {\"Metrics\": {\"Max Batches Seen Between Resets\": {\"count\": 1, \"max\": 0, \"sum\": 0.0, \"min\": 0}, \"Number of Batches Since Last Reset\": {\"count\": 1, \"max\": 0, \"sum\": 0.0, \"min\": 0}, \"Number of Records Since Last Reset\": {\"count\": 1, \"max\": 0, \"sum\": 0.0, \"min\": 0}, \"Total Batches Seen\": {\"count\": 1, \"max\": 0, \"sum\": 0.0, \"min\": 0}, \"Total Records Seen\": {\"count\": 1, \"max\": 0, \"sum\": 0.0, \"min\": 0}, \"Max Records Seen Between Resets\": {\"count\": 1, \"max\": 0, \"sum\": 0.0, \"min\": 0}, \"Reset Count\": {\"count\": 1, \"max\": 0, \"sum\": 0.0, \"min\": 0}}, \"EndTime\": 1591164340.198979, \"Dimensions\": {\"Host\": \"algo-1\", \"Meta\": \"init_train_data_iter\", \"Operation\": \"training\", \"Algorithm\": \"PCA\"}, \"StartTime\": 1591164340.198936}\n",
      "\u001b[0m\n",
      "\u001b[34m[2020-06-03 06:05:40.199] [tensorio] [info] epoch_stats={\"data_pipeline\": \"/opt/ml/input/data/train\", \"epoch\": 0, \"duration\": 763, \"num_examples\": 1, \"num_bytes\": 11200}\u001b[0m\n",
      "\u001b[34m[2020-06-03 06:05:40.244] [tensorio] [info] epoch_stats={\"data_pipeline\": \"/opt/ml/input/data/train\", \"epoch\": 1, \"duration\": 39, \"num_examples\": 55, \"num_bytes\": 609616}\u001b[0m\n",
      "\u001b[34m#metrics {\"Metrics\": {\"epochs\": {\"count\": 1, \"max\": 1, \"sum\": 1.0, \"min\": 1}, \"update.time\": {\"count\": 1, \"max\": 44.836997985839844, \"sum\": 44.836997985839844, \"min\": 44.836997985839844}}, \"EndTime\": 1591164340.244426, \"Dimensions\": {\"Host\": \"algo-1\", \"Operation\": \"training\", \"Algorithm\": \"PCA\"}, \"StartTime\": 1591164340.198848}\n",
      "\u001b[0m\n",
      "\u001b[34m[06/03/2020 06:05:40 INFO 140659398784832] #progress_metric: host=algo-1, completed 100 % of epochs\u001b[0m\n",
      "\u001b[34m#metrics {\"Metrics\": {\"Max Batches Seen Between Resets\": {\"count\": 1, \"max\": 55, \"sum\": 55.0, \"min\": 55}, \"Number of Batches Since Last Reset\": {\"count\": 1, \"max\": 55, \"sum\": 55.0, \"min\": 55}, \"Number of Records Since Last Reset\": {\"count\": 1, \"max\": 10886, \"sum\": 10886.0, \"min\": 10886}, \"Total Batches Seen\": {\"count\": 1, \"max\": 55, \"sum\": 55.0, \"min\": 55}, \"Total Records Seen\": {\"count\": 1, \"max\": 10886, \"sum\": 10886.0, \"min\": 10886}, \"Max Records Seen Between Resets\": {\"count\": 1, \"max\": 10886, \"sum\": 10886.0, \"min\": 10886}, \"Reset Count\": {\"count\": 1, \"max\": 1, \"sum\": 1.0, \"min\": 1}}, \"EndTime\": 1591164340.244864, \"Dimensions\": {\"Host\": \"algo-1\", \"Meta\": \"training_data_iter\", \"Operation\": \"training\", \"Algorithm\": \"PCA\", \"epoch\": 0}, \"StartTime\": 1591164340.199467}\n",
      "\u001b[0m\n",
      "\u001b[34m[06/03/2020 06:05:40 INFO 140659398784832] #throughput_metric: host=algo-1, train throughput=238964.538543 records/second\u001b[0m\n"
     ]
    },
    {
     "name": "stdout",
     "output_type": "stream",
     "text": [
      "\n",
      "2020-06-03 06:05:48 Uploading - Uploading generated training model\n",
      "2020-06-03 06:05:48 Completed - Training job completed\n",
      "\u001b[34m#metrics {\"Metrics\": {\"finalize.time\": {\"count\": 1, \"max\": 8.761882781982422, \"sum\": 8.761882781982422, \"min\": 8.761882781982422}}, \"EndTime\": 1591164340.254043, \"Dimensions\": {\"Host\": \"algo-1\", \"Operation\": \"training\", \"Algorithm\": \"PCA\"}, \"StartTime\": 1591164340.244517}\n",
      "\u001b[0m\n",
      "\u001b[34m[06/03/2020 06:05:40 INFO 140659398784832] Test data is not provided.\u001b[0m\n",
      "\u001b[34m#metrics {\"Metrics\": {\"totaltime\": {\"count\": 1, \"max\": 1474.484920501709, \"sum\": 1474.484920501709, \"min\": 1474.484920501709}, \"setuptime\": {\"count\": 1, \"max\": 552.9389381408691, \"sum\": 552.9389381408691, \"min\": 552.9389381408691}}, \"EndTime\": 1591164340.254719, \"Dimensions\": {\"Host\": \"algo-1\", \"Operation\": \"training\", \"Algorithm\": \"PCA\"}, \"StartTime\": 1591164340.254107}\n",
      "\u001b[0m\n",
      "Training seconds: 67\n",
      "Billable seconds: 67\n"
     ]
    }
   ],
   "source": [
    "# XGBoost supports \"train\", \"validation\" channels\n",
    "# Reference: Supported channels by algorithm\n",
    "#   https://docs.aws.amazon.com/sagemaker/latest/dg/sagemaker-algo-docker-registry-paths.html\n",
    "estimator.fit({'train':s3_training_file_location}) ## file is recordio format"
   ]
  },
  {
   "cell_type": "markdown",
   "metadata": {},
   "source": [
    "## Deploy Model"
   ]
  },
  {
   "cell_type": "code",
   "execution_count": 16,
   "metadata": {},
   "outputs": [
    {
     "name": "stderr",
     "output_type": "stream",
     "text": [
      "Using already existing model: pca-biketrain-2020-06-03-06-02-22-955\n"
     ]
    },
    {
     "name": "stdout",
     "output_type": "stream",
     "text": [
      "---------------!"
     ]
    }
   ],
   "source": [
    "# Ref: http://sagemaker.readthedocs.io/en/latest/estimators.html\n",
    "predictor = estimator.deploy(initial_instance_count=1,\n",
    "                             instance_type='ml.m4.xlarge',\n",
    "                             endpoint_name = 'pca-biketrain')"
   ]
  },
  {
   "cell_type": "markdown",
   "metadata": {
    "collapsed": true
   },
   "source": [
    "## Run Predictions"
   ]
  },
  {
   "cell_type": "code",
   "execution_count": 17,
   "metadata": {},
   "outputs": [],
   "source": [
    "from sagemaker.predictor import csv_serializer, json_deserializer\n",
    "\n",
    "predictor.content_type = 'text/csv'\n",
    "predictor.serializer = csv_serializer\n",
    "predictor.deserializer = json_deserializer"
   ]
  },
  {
   "cell_type": "code",
   "execution_count": 18,
   "metadata": {},
   "outputs": [
    {
     "data": {
      "text/plain": [
       "{'projections': [{'projection': [1.6828124523162842,\n",
       "    0.45077428221702576,\n",
       "    -1.8276870250701904]}]}"
      ]
     },
     "execution_count": 18,
     "metadata": {},
     "output_type": "execute_result"
    }
   ],
   "source": [
    "predictor.predict([[-1.333660693,-1.092736969,0.993213054,1.567753667]])"
   ]
  },
  {
   "cell_type": "markdown",
   "metadata": {
    "collapsed": true
   },
   "source": [
    "## Summary"
   ]
  },
  {
   "cell_type": "markdown",
   "metadata": {},
   "source": [
    "1. Ensure Training, Test and Validation data are in S3 Bucket\n",
    "2. Select Algorithm Container Registry Path - Path varies by region\n",
    "3. Configure Estimator for training - Specify Algorithm container, instance count, instance type, model output location\n",
    "4. Specify algorithm specific hyper parameters\n",
    "5. Train model\n",
    "6. Deploy model - Specify instance count, instance type and endpoint name\n",
    "7. Run Predictions"
   ]
  },
  {
   "cell_type": "code",
   "execution_count": null,
   "metadata": {},
   "outputs": [],
   "source": []
  },
  {
   "cell_type": "markdown",
   "metadata": {},
   "source": [
    "## PCA Amazon SageMaker Prediction Invocation"
   ]
  },
  {
   "cell_type": "code",
   "execution_count": 19,
   "metadata": {},
   "outputs": [],
   "source": [
    "# Acquire a realtime endpoint\n",
    "endpoint_name = 'pca-biketrain'\n",
    "predictor = sagemaker.predictor.RealTimePredictor(endpoint=endpoint_name)"
   ]
  },
  {
   "cell_type": "code",
   "execution_count": 20,
   "metadata": {},
   "outputs": [],
   "source": [
    "from sagemaker.predictor import csv_serializer, json_deserializer\n",
    "\n",
    "predictor.content_type = 'text/csv'\n",
    "predictor.serializer = csv_serializer\n",
    "predictor.deserializer = json_deserializer"
   ]
  },
  {
   "cell_type": "code",
   "execution_count": 21,
   "metadata": {},
   "outputs": [],
   "source": [
    "# We are not going to use numeric features: 'temp','atemp','humidity','windspeed'\n",
    "# Instead, we are going to use new components (aka features) generated by PCA for model training and testing\n",
    "columns = ['count', 'season', 'holiday', 'workingday', 'weather','year', 'month', 'day', 'dayofweek','hour']\n",
    "\n",
    "# PCA Training\n",
    "colums_for_pca = ['temp','atemp','humidity','windspeed']"
   ]
  },
  {
   "cell_type": "code",
   "execution_count": 23,
   "metadata": {},
   "outputs": [
    {
     "data": {
      "text/html": [
       "<div>\n",
       "<style scoped>\n",
       "    .dataframe tbody tr th:only-of-type {\n",
       "        vertical-align: middle;\n",
       "    }\n",
       "\n",
       "    .dataframe tbody tr th {\n",
       "        vertical-align: top;\n",
       "    }\n",
       "\n",
       "    .dataframe thead th {\n",
       "        text-align: right;\n",
       "    }\n",
       "</style>\n",
       "<table border=\"1\" class=\"dataframe\">\n",
       "  <thead>\n",
       "    <tr style=\"text-align: right;\">\n",
       "      <th></th>\n",
       "      <th>count</th>\n",
       "      <th>season</th>\n",
       "      <th>holiday</th>\n",
       "      <th>workingday</th>\n",
       "      <th>weather</th>\n",
       "      <th>temp</th>\n",
       "      <th>atemp</th>\n",
       "      <th>humidity</th>\n",
       "      <th>windspeed</th>\n",
       "      <th>year</th>\n",
       "      <th>month</th>\n",
       "      <th>day</th>\n",
       "      <th>dayofweek</th>\n",
       "      <th>hour</th>\n",
       "    </tr>\n",
       "  </thead>\n",
       "  <tbody>\n",
       "    <tr>\n",
       "      <th>0</th>\n",
       "      <td>2.833213</td>\n",
       "      <td>1</td>\n",
       "      <td>0</td>\n",
       "      <td>0</td>\n",
       "      <td>1</td>\n",
       "      <td>-1.333661</td>\n",
       "      <td>-1.092737</td>\n",
       "      <td>0.993213</td>\n",
       "      <td>-1.567754</td>\n",
       "      <td>2011</td>\n",
       "      <td>1</td>\n",
       "      <td>1</td>\n",
       "      <td>5</td>\n",
       "      <td>0</td>\n",
       "    </tr>\n",
       "    <tr>\n",
       "      <th>1</th>\n",
       "      <td>3.713572</td>\n",
       "      <td>1</td>\n",
       "      <td>0</td>\n",
       "      <td>0</td>\n",
       "      <td>1</td>\n",
       "      <td>-1.438907</td>\n",
       "      <td>-1.182421</td>\n",
       "      <td>0.941249</td>\n",
       "      <td>-1.567754</td>\n",
       "      <td>2011</td>\n",
       "      <td>1</td>\n",
       "      <td>1</td>\n",
       "      <td>5</td>\n",
       "      <td>1</td>\n",
       "    </tr>\n",
       "    <tr>\n",
       "      <th>2</th>\n",
       "      <td>3.496508</td>\n",
       "      <td>1</td>\n",
       "      <td>0</td>\n",
       "      <td>0</td>\n",
       "      <td>1</td>\n",
       "      <td>-1.438907</td>\n",
       "      <td>-1.182421</td>\n",
       "      <td>0.941249</td>\n",
       "      <td>-1.567754</td>\n",
       "      <td>2011</td>\n",
       "      <td>1</td>\n",
       "      <td>1</td>\n",
       "      <td>5</td>\n",
       "      <td>2</td>\n",
       "    </tr>\n",
       "    <tr>\n",
       "      <th>3</th>\n",
       "      <td>2.639057</td>\n",
       "      <td>1</td>\n",
       "      <td>0</td>\n",
       "      <td>0</td>\n",
       "      <td>1</td>\n",
       "      <td>-1.333661</td>\n",
       "      <td>-1.092737</td>\n",
       "      <td>0.681430</td>\n",
       "      <td>-1.567754</td>\n",
       "      <td>2011</td>\n",
       "      <td>1</td>\n",
       "      <td>1</td>\n",
       "      <td>5</td>\n",
       "      <td>3</td>\n",
       "    </tr>\n",
       "    <tr>\n",
       "      <th>4</th>\n",
       "      <td>0.693147</td>\n",
       "      <td>1</td>\n",
       "      <td>0</td>\n",
       "      <td>0</td>\n",
       "      <td>1</td>\n",
       "      <td>-1.333661</td>\n",
       "      <td>-1.092737</td>\n",
       "      <td>0.681430</td>\n",
       "      <td>-1.567754</td>\n",
       "      <td>2011</td>\n",
       "      <td>1</td>\n",
       "      <td>1</td>\n",
       "      <td>5</td>\n",
       "      <td>4</td>\n",
       "    </tr>\n",
       "  </tbody>\n",
       "</table>\n",
       "</div>"
      ],
      "text/plain": [
       "      count  season  holiday  workingday  weather      temp     atemp  \\\n",
       "0  2.833213       1        0           0        1 -1.333661 -1.092737   \n",
       "1  3.713572       1        0           0        1 -1.438907 -1.182421   \n",
       "2  3.496508       1        0           0        1 -1.438907 -1.182421   \n",
       "3  2.639057       1        0           0        1 -1.333661 -1.092737   \n",
       "4  0.693147       1        0           0        1 -1.333661 -1.092737   \n",
       "\n",
       "   humidity  windspeed  year  month  day  dayofweek  hour  \n",
       "0  0.993213  -1.567754  2011      1    1          5     0  \n",
       "1  0.941249  -1.567754  2011      1    1          5     1  \n",
       "2  0.941249  -1.567754  2011      1    1          5     2  \n",
       "3  0.681430  -1.567754  2011      1    1          5     3  \n",
       "4  0.681430  -1.567754  2011      1    1          5     4  "
      ]
     },
     "metadata": {},
     "output_type": "display_data"
    },
    {
     "data": {
      "text/html": [
       "<div>\n",
       "<style scoped>\n",
       "    .dataframe tbody tr th:only-of-type {\n",
       "        vertical-align: middle;\n",
       "    }\n",
       "\n",
       "    .dataframe tbody tr th {\n",
       "        vertical-align: top;\n",
       "    }\n",
       "\n",
       "    .dataframe thead th {\n",
       "        text-align: right;\n",
       "    }\n",
       "</style>\n",
       "<table border=\"1\" class=\"dataframe\">\n",
       "  <thead>\n",
       "    <tr style=\"text-align: right;\">\n",
       "      <th></th>\n",
       "      <th>season</th>\n",
       "      <th>holiday</th>\n",
       "      <th>workingday</th>\n",
       "      <th>weather</th>\n",
       "      <th>temp</th>\n",
       "      <th>atemp</th>\n",
       "      <th>humidity</th>\n",
       "      <th>windspeed</th>\n",
       "      <th>year</th>\n",
       "      <th>month</th>\n",
       "      <th>day</th>\n",
       "      <th>dayofweek</th>\n",
       "      <th>hour</th>\n",
       "    </tr>\n",
       "  </thead>\n",
       "  <tbody>\n",
       "    <tr>\n",
       "      <th>0</th>\n",
       "      <td>1</td>\n",
       "      <td>0</td>\n",
       "      <td>1</td>\n",
       "      <td>1</td>\n",
       "      <td>-1.228414</td>\n",
       "      <td>-1.450292</td>\n",
       "      <td>-0.305883</td>\n",
       "      <td>1.617227</td>\n",
       "      <td>2011</td>\n",
       "      <td>1</td>\n",
       "      <td>20</td>\n",
       "      <td>3</td>\n",
       "      <td>0</td>\n",
       "    </tr>\n",
       "    <tr>\n",
       "      <th>1</th>\n",
       "      <td>1</td>\n",
       "      <td>0</td>\n",
       "      <td>1</td>\n",
       "      <td>1</td>\n",
       "      <td>-1.228414</td>\n",
       "      <td>-1.182421</td>\n",
       "      <td>-0.305883</td>\n",
       "      <td>-1.567754</td>\n",
       "      <td>2011</td>\n",
       "      <td>1</td>\n",
       "      <td>20</td>\n",
       "      <td>3</td>\n",
       "      <td>1</td>\n",
       "    </tr>\n",
       "    <tr>\n",
       "      <th>2</th>\n",
       "      <td>1</td>\n",
       "      <td>0</td>\n",
       "      <td>1</td>\n",
       "      <td>1</td>\n",
       "      <td>-1.228414</td>\n",
       "      <td>-1.182421</td>\n",
       "      <td>-0.305883</td>\n",
       "      <td>-1.567754</td>\n",
       "      <td>2011</td>\n",
       "      <td>1</td>\n",
       "      <td>20</td>\n",
       "      <td>3</td>\n",
       "      <td>2</td>\n",
       "    </tr>\n",
       "    <tr>\n",
       "      <th>3</th>\n",
       "      <td>1</td>\n",
       "      <td>0</td>\n",
       "      <td>1</td>\n",
       "      <td>1</td>\n",
       "      <td>-1.228414</td>\n",
       "      <td>-1.271515</td>\n",
       "      <td>-0.305883</td>\n",
       "      <td>-0.220230</td>\n",
       "      <td>2011</td>\n",
       "      <td>1</td>\n",
       "      <td>20</td>\n",
       "      <td>3</td>\n",
       "      <td>3</td>\n",
       "    </tr>\n",
       "    <tr>\n",
       "      <th>4</th>\n",
       "      <td>1</td>\n",
       "      <td>0</td>\n",
       "      <td>1</td>\n",
       "      <td>1</td>\n",
       "      <td>-1.228414</td>\n",
       "      <td>-1.271515</td>\n",
       "      <td>-0.305883</td>\n",
       "      <td>-0.220230</td>\n",
       "      <td>2011</td>\n",
       "      <td>1</td>\n",
       "      <td>20</td>\n",
       "      <td>3</td>\n",
       "      <td>4</td>\n",
       "    </tr>\n",
       "  </tbody>\n",
       "</table>\n",
       "</div>"
      ],
      "text/plain": [
       "   season  holiday  workingday  weather      temp     atemp  humidity  \\\n",
       "0       1        0           1        1 -1.228414 -1.450292 -0.305883   \n",
       "1       1        0           1        1 -1.228414 -1.182421 -0.305883   \n",
       "2       1        0           1        1 -1.228414 -1.182421 -0.305883   \n",
       "3       1        0           1        1 -1.228414 -1.271515 -0.305883   \n",
       "4       1        0           1        1 -1.228414 -1.271515 -0.305883   \n",
       "\n",
       "   windspeed  year  month  day  dayofweek  hour  \n",
       "0   1.617227  2011      1   20          3     0  \n",
       "1  -1.567754  2011      1   20          3     1  \n",
       "2  -1.567754  2011      1   20          3     2  \n",
       "3  -0.220230  2011      1   20          3     3  \n",
       "4  -0.220230  2011      1   20          3     4  "
      ]
     },
     "metadata": {},
     "output_type": "display_data"
    }
   ],
   "source": [
    "df_train = pd.read_csv('rob-train_normalized.csv')\n",
    "display(df_train.head())\n",
    "\n",
    "df_test = pd.read_csv('rob-test_normalized.csv')\n",
    "display(df_test.head())"
   ]
  },
  {
   "cell_type": "code",
   "execution_count": 24,
   "metadata": {},
   "outputs": [
    {
     "data": {
      "text/html": [
       "<div>\n",
       "<style scoped>\n",
       "    .dataframe tbody tr th:only-of-type {\n",
       "        vertical-align: middle;\n",
       "    }\n",
       "\n",
       "    .dataframe tbody tr th {\n",
       "        vertical-align: top;\n",
       "    }\n",
       "\n",
       "    .dataframe thead th {\n",
       "        text-align: right;\n",
       "    }\n",
       "</style>\n",
       "<table border=\"1\" class=\"dataframe\">\n",
       "  <thead>\n",
       "    <tr style=\"text-align: right;\">\n",
       "      <th></th>\n",
       "      <th>temp</th>\n",
       "      <th>atemp</th>\n",
       "      <th>humidity</th>\n",
       "      <th>windspeed</th>\n",
       "    </tr>\n",
       "  </thead>\n",
       "  <tbody>\n",
       "    <tr>\n",
       "      <th>0</th>\n",
       "      <td>-1.333661</td>\n",
       "      <td>-1.092737</td>\n",
       "      <td>0.993213</td>\n",
       "      <td>-1.567754</td>\n",
       "    </tr>\n",
       "    <tr>\n",
       "      <th>1</th>\n",
       "      <td>-1.438907</td>\n",
       "      <td>-1.182421</td>\n",
       "      <td>0.941249</td>\n",
       "      <td>-1.567754</td>\n",
       "    </tr>\n",
       "    <tr>\n",
       "      <th>2</th>\n",
       "      <td>-1.438907</td>\n",
       "      <td>-1.182421</td>\n",
       "      <td>0.941249</td>\n",
       "      <td>-1.567754</td>\n",
       "    </tr>\n",
       "    <tr>\n",
       "      <th>3</th>\n",
       "      <td>-1.333661</td>\n",
       "      <td>-1.092737</td>\n",
       "      <td>0.681430</td>\n",
       "      <td>-1.567754</td>\n",
       "    </tr>\n",
       "    <tr>\n",
       "      <th>4</th>\n",
       "      <td>-1.333661</td>\n",
       "      <td>-1.092737</td>\n",
       "      <td>0.681430</td>\n",
       "      <td>-1.567754</td>\n",
       "    </tr>\n",
       "  </tbody>\n",
       "</table>\n",
       "</div>"
      ],
      "text/plain": [
       "       temp     atemp  humidity  windspeed\n",
       "0 -1.333661 -1.092737  0.993213  -1.567754\n",
       "1 -1.438907 -1.182421  0.941249  -1.567754\n",
       "2 -1.438907 -1.182421  0.941249  -1.567754\n",
       "3 -1.333661 -1.092737  0.681430  -1.567754\n",
       "4 -1.333661 -1.092737  0.681430  -1.567754"
      ]
     },
     "execution_count": 24,
     "metadata": {},
     "output_type": "execute_result"
    }
   ],
   "source": [
    "df_train[colums_for_pca].head()"
   ]
  },
  {
   "cell_type": "code",
   "execution_count": 25,
   "metadata": {},
   "outputs": [
    {
     "name": "stderr",
     "output_type": "stream",
     "text": [
      "/home/ec2-user/anaconda3/envs/python3/lib/python3.6/site-packages/ipykernel/__main__.py:1: FutureWarning: Method .as_matrix will be removed in a future version. Use .values instead.\n",
      "  if __name__ == '__main__':\n"
     ]
    }
   ],
   "source": [
    "test = df_train[colums_for_pca].head().as_matrix()"
   ]
  },
  {
   "cell_type": "code",
   "execution_count": 26,
   "metadata": {},
   "outputs": [
    {
     "name": "stdout",
     "output_type": "stream",
     "text": [
      "{'projections': [{'projection': [-0.5232375860214233, -1.7736060619354248, -1.7270781993865967]}, {'projection': [-0.5697786808013916, -1.7339260578155518, -1.8610637187957764]}, {'projection': [-0.5697786808013916, -1.7339260578155518, -1.8610637187957764]}, {'projection': [-0.7436795234680176, -1.554117202758789, -1.7062432765960693]}, {'projection': [-0.7436795234680176, -1.554117202758789, -1.7062432765960693]}]}\n"
     ]
    }
   ],
   "source": [
    "result = predictor.predict(test)\n",
    "print(result)"
   ]
  },
  {
   "cell_type": "code",
   "execution_count": 27,
   "metadata": {},
   "outputs": [
    {
     "name": "stdout",
     "output_type": "stream",
     "text": [
      "[[-0.5232375860214233, -1.7736060619354248, -1.7270781993865967], [-0.5697786808013916, -1.7339260578155518, -1.8610637187957764], [-0.5697786808013916, -1.7339260578155518, -1.8610637187957764], [-0.7436795234680176, -1.554117202758789, -1.7062432765960693], [-0.7436795234680176, -1.554117202758789, -1.7062432765960693]]\n"
     ]
    }
   ],
   "source": [
    "l = [values['projection'] for values in result['projections']]\n",
    "print(l)"
   ]
  },
  {
   "cell_type": "code",
   "execution_count": 28,
   "metadata": {},
   "outputs": [
    {
     "data": {
      "text/html": [
       "<div>\n",
       "<style scoped>\n",
       "    .dataframe tbody tr th:only-of-type {\n",
       "        vertical-align: middle;\n",
       "    }\n",
       "\n",
       "    .dataframe tbody tr th {\n",
       "        vertical-align: top;\n",
       "    }\n",
       "\n",
       "    .dataframe thead th {\n",
       "        text-align: right;\n",
       "    }\n",
       "</style>\n",
       "<table border=\"1\" class=\"dataframe\">\n",
       "  <thead>\n",
       "    <tr style=\"text-align: right;\">\n",
       "      <th></th>\n",
       "      <th>0</th>\n",
       "      <th>1</th>\n",
       "      <th>2</th>\n",
       "    </tr>\n",
       "  </thead>\n",
       "  <tbody>\n",
       "    <tr>\n",
       "      <th>0</th>\n",
       "      <td>-0.523238</td>\n",
       "      <td>-1.773606</td>\n",
       "      <td>-1.727078</td>\n",
       "    </tr>\n",
       "    <tr>\n",
       "      <th>1</th>\n",
       "      <td>-0.569779</td>\n",
       "      <td>-1.733926</td>\n",
       "      <td>-1.861064</td>\n",
       "    </tr>\n",
       "    <tr>\n",
       "      <th>2</th>\n",
       "      <td>-0.569779</td>\n",
       "      <td>-1.733926</td>\n",
       "      <td>-1.861064</td>\n",
       "    </tr>\n",
       "    <tr>\n",
       "      <th>3</th>\n",
       "      <td>-0.743680</td>\n",
       "      <td>-1.554117</td>\n",
       "      <td>-1.706243</td>\n",
       "    </tr>\n",
       "    <tr>\n",
       "      <th>4</th>\n",
       "      <td>-0.743680</td>\n",
       "      <td>-1.554117</td>\n",
       "      <td>-1.706243</td>\n",
       "    </tr>\n",
       "  </tbody>\n",
       "</table>\n",
       "</div>"
      ],
      "text/plain": [
       "          0         1         2\n",
       "0 -0.523238 -1.773606 -1.727078\n",
       "1 -0.569779 -1.733926 -1.861064\n",
       "2 -0.569779 -1.733926 -1.861064\n",
       "3 -0.743680 -1.554117 -1.706243\n",
       "4 -0.743680 -1.554117 -1.706243"
      ]
     },
     "execution_count": 28,
     "metadata": {},
     "output_type": "execute_result"
    }
   ],
   "source": [
    "df_temp = pd.DataFrame(l)\n",
    "df_temp"
   ]
  },
  {
   "cell_type": "code",
   "execution_count": 29,
   "metadata": {},
   "outputs": [],
   "source": [
    "# For large number of predictions, we can split the input data and\n",
    "# Query the prediction service.\n",
    "# array_split is convenient to specify how many splits are needed\n",
    "def get_projection(arr_features):\n",
    "    projections = []\n",
    "    for arr in np.array_split(arr_features,100):        \n",
    "        if arr.shape[0] > 0:\n",
    "            print (arr.shape)\n",
    "            result = predictor.predict(arr)\n",
    "            projections += [values['projection'] for values in result['projections']]\n",
    "    return projections"
   ]
  },
  {
   "cell_type": "code",
   "execution_count": 30,
   "metadata": {},
   "outputs": [],
   "source": [
    "def replace_features(predictor, df, colums_for_pca):\n",
    "    \n",
    "    arr_features = df[colums_for_pca].as_matrix()\n",
    "    \n",
    "    projections = get_projection(arr_features)\n",
    "    df_projection = pd.DataFrame(projections)\n",
    "    \n",
    "    tcols = []\n",
    "    # New column names\n",
    "    for i in range(df_projection.shape[1]):       \n",
    "        tcols.append('component_' + str(i))\n",
    "    \n",
    "    df_projection.columns = tcols\n",
    "    print ('components:',tcols)\n",
    "    \n",
    "    \n",
    "    for col in df_projection.columns:\n",
    "        df[col] = df_projection[col]\n",
    "    \n",
    "    df.drop(colums_for_pca, inplace=True, axis=1)\n",
    "    \n",
    "    return tcols"
   ]
  },
  {
   "cell_type": "code",
   "execution_count": 31,
   "metadata": {},
   "outputs": [
    {
     "data": {
      "text/html": [
       "<div>\n",
       "<style scoped>\n",
       "    .dataframe tbody tr th:only-of-type {\n",
       "        vertical-align: middle;\n",
       "    }\n",
       "\n",
       "    .dataframe tbody tr th {\n",
       "        vertical-align: top;\n",
       "    }\n",
       "\n",
       "    .dataframe thead th {\n",
       "        text-align: right;\n",
       "    }\n",
       "</style>\n",
       "<table border=\"1\" class=\"dataframe\">\n",
       "  <thead>\n",
       "    <tr style=\"text-align: right;\">\n",
       "      <th></th>\n",
       "      <th>count</th>\n",
       "      <th>season</th>\n",
       "      <th>holiday</th>\n",
       "      <th>workingday</th>\n",
       "      <th>weather</th>\n",
       "      <th>temp</th>\n",
       "      <th>atemp</th>\n",
       "      <th>humidity</th>\n",
       "      <th>windspeed</th>\n",
       "      <th>year</th>\n",
       "      <th>month</th>\n",
       "      <th>day</th>\n",
       "      <th>dayofweek</th>\n",
       "      <th>hour</th>\n",
       "    </tr>\n",
       "  </thead>\n",
       "  <tbody>\n",
       "    <tr>\n",
       "      <th>0</th>\n",
       "      <td>2.833213</td>\n",
       "      <td>1</td>\n",
       "      <td>0</td>\n",
       "      <td>0</td>\n",
       "      <td>1</td>\n",
       "      <td>-1.333661</td>\n",
       "      <td>-1.092737</td>\n",
       "      <td>0.993213</td>\n",
       "      <td>-1.567754</td>\n",
       "      <td>2011</td>\n",
       "      <td>1</td>\n",
       "      <td>1</td>\n",
       "      <td>5</td>\n",
       "      <td>0</td>\n",
       "    </tr>\n",
       "    <tr>\n",
       "      <th>1</th>\n",
       "      <td>3.713572</td>\n",
       "      <td>1</td>\n",
       "      <td>0</td>\n",
       "      <td>0</td>\n",
       "      <td>1</td>\n",
       "      <td>-1.438907</td>\n",
       "      <td>-1.182421</td>\n",
       "      <td>0.941249</td>\n",
       "      <td>-1.567754</td>\n",
       "      <td>2011</td>\n",
       "      <td>1</td>\n",
       "      <td>1</td>\n",
       "      <td>5</td>\n",
       "      <td>1</td>\n",
       "    </tr>\n",
       "  </tbody>\n",
       "</table>\n",
       "</div>"
      ],
      "text/plain": [
       "      count  season  holiday  workingday  weather      temp     atemp  \\\n",
       "0  2.833213       1        0           0        1 -1.333661 -1.092737   \n",
       "1  3.713572       1        0           0        1 -1.438907 -1.182421   \n",
       "\n",
       "   humidity  windspeed  year  month  day  dayofweek  hour  \n",
       "0  0.993213  -1.567754  2011      1    1          5     0  \n",
       "1  0.941249  -1.567754  2011      1    1          5     1  "
      ]
     },
     "execution_count": 31,
     "metadata": {},
     "output_type": "execute_result"
    }
   ],
   "source": [
    "##\n",
    "df_train.head(2)"
   ]
  },
  {
   "cell_type": "code",
   "execution_count": 32,
   "metadata": {},
   "outputs": [
    {
     "name": "stderr",
     "output_type": "stream",
     "text": [
      "/home/ec2-user/anaconda3/envs/python3/lib/python3.6/site-packages/ipykernel/__main__.py:3: FutureWarning: Method .as_matrix will be removed in a future version. Use .values instead.\n",
      "  app.launch_new_instance()\n"
     ]
    },
    {
     "name": "stdout",
     "output_type": "stream",
     "text": [
      "(109, 4)\n",
      "(109, 4)\n",
      "(109, 4)\n",
      "(109, 4)\n",
      "(109, 4)\n",
      "(109, 4)\n",
      "(109, 4)\n",
      "(109, 4)\n",
      "(109, 4)\n",
      "(109, 4)\n",
      "(109, 4)\n",
      "(109, 4)\n",
      "(109, 4)\n",
      "(109, 4)\n",
      "(109, 4)\n",
      "(109, 4)\n",
      "(109, 4)\n",
      "(109, 4)\n",
      "(109, 4)\n",
      "(109, 4)\n",
      "(109, 4)\n",
      "(109, 4)\n",
      "(109, 4)\n",
      "(109, 4)\n",
      "(109, 4)\n",
      "(109, 4)\n",
      "(109, 4)\n",
      "(109, 4)\n",
      "(109, 4)\n",
      "(109, 4)\n",
      "(109, 4)\n",
      "(109, 4)\n",
      "(109, 4)\n",
      "(109, 4)\n",
      "(109, 4)\n",
      "(109, 4)\n",
      "(109, 4)\n",
      "(109, 4)\n",
      "(109, 4)\n",
      "(109, 4)\n",
      "(109, 4)\n",
      "(109, 4)\n",
      "(109, 4)\n",
      "(109, 4)\n",
      "(109, 4)\n",
      "(109, 4)\n",
      "(109, 4)\n",
      "(109, 4)\n",
      "(109, 4)\n",
      "(109, 4)\n",
      "(109, 4)\n",
      "(109, 4)\n",
      "(109, 4)\n",
      "(109, 4)\n",
      "(109, 4)\n",
      "(109, 4)\n",
      "(109, 4)\n",
      "(109, 4)\n",
      "(109, 4)\n",
      "(109, 4)\n",
      "(109, 4)\n",
      "(109, 4)\n",
      "(109, 4)\n",
      "(109, 4)\n",
      "(109, 4)\n",
      "(109, 4)\n",
      "(109, 4)\n",
      "(109, 4)\n",
      "(109, 4)\n",
      "(109, 4)\n",
      "(109, 4)\n",
      "(109, 4)\n",
      "(109, 4)\n",
      "(109, 4)\n",
      "(109, 4)\n",
      "(109, 4)\n",
      "(109, 4)\n",
      "(109, 4)\n",
      "(109, 4)\n",
      "(109, 4)\n",
      "(109, 4)\n",
      "(109, 4)\n",
      "(109, 4)\n",
      "(109, 4)\n",
      "(109, 4)\n",
      "(109, 4)\n",
      "(108, 4)\n",
      "(108, 4)\n",
      "(108, 4)\n",
      "(108, 4)\n",
      "(108, 4)\n",
      "(108, 4)\n",
      "(108, 4)\n",
      "(108, 4)\n",
      "(108, 4)\n",
      "(108, 4)\n",
      "(108, 4)\n",
      "(108, 4)\n",
      "(108, 4)\n",
      "(108, 4)\n",
      "components: ['component_0', 'component_1', 'component_2']\n"
     ]
    }
   ],
   "source": [
    "##\n",
    "new_cols = replace_features(predictor, df_train, colums_for_pca)"
   ]
  },
  {
   "cell_type": "code",
   "execution_count": 33,
   "metadata": {},
   "outputs": [
    {
     "name": "stdout",
     "output_type": "stream",
     "text": [
      "(65, 4)\n",
      "(65, 4)\n"
     ]
    },
    {
     "name": "stderr",
     "output_type": "stream",
     "text": [
      "/home/ec2-user/anaconda3/envs/python3/lib/python3.6/site-packages/ipykernel/__main__.py:3: FutureWarning: Method .as_matrix will be removed in a future version. Use .values instead.\n",
      "  app.launch_new_instance()\n"
     ]
    },
    {
     "name": "stdout",
     "output_type": "stream",
     "text": [
      "(65, 4)\n",
      "(65, 4)\n",
      "(65, 4)\n",
      "(65, 4)\n",
      "(65, 4)\n",
      "(65, 4)\n",
      "(65, 4)\n",
      "(65, 4)\n",
      "(65, 4)\n",
      "(65, 4)\n",
      "(65, 4)\n",
      "(65, 4)\n",
      "(65, 4)\n",
      "(65, 4)\n",
      "(65, 4)\n",
      "(65, 4)\n",
      "(65, 4)\n",
      "(65, 4)\n",
      "(65, 4)\n",
      "(65, 4)\n",
      "(65, 4)\n",
      "(65, 4)\n",
      "(65, 4)\n",
      "(65, 4)\n",
      "(65, 4)\n",
      "(65, 4)\n",
      "(65, 4)\n",
      "(65, 4)\n",
      "(65, 4)\n",
      "(65, 4)\n",
      "(65, 4)\n",
      "(65, 4)\n",
      "(65, 4)\n",
      "(65, 4)\n",
      "(65, 4)\n",
      "(65, 4)\n",
      "(65, 4)\n",
      "(65, 4)\n",
      "(65, 4)\n",
      "(65, 4)\n",
      "(65, 4)\n",
      "(65, 4)\n",
      "(65, 4)\n",
      "(65, 4)\n",
      "(65, 4)\n",
      "(65, 4)\n",
      "(65, 4)\n",
      "(65, 4)\n",
      "(65, 4)\n",
      "(65, 4)\n",
      "(65, 4)\n",
      "(65, 4)\n",
      "(65, 4)\n",
      "(65, 4)\n",
      "(65, 4)\n",
      "(65, 4)\n",
      "(65, 4)\n",
      "(65, 4)\n",
      "(65, 4)\n",
      "(65, 4)\n",
      "(65, 4)\n",
      "(65, 4)\n",
      "(65, 4)\n",
      "(65, 4)\n",
      "(65, 4)\n",
      "(65, 4)\n",
      "(65, 4)\n",
      "(65, 4)\n",
      "(65, 4)\n",
      "(65, 4)\n",
      "(65, 4)\n",
      "(65, 4)\n",
      "(65, 4)\n",
      "(65, 4)\n",
      "(65, 4)\n",
      "(65, 4)\n",
      "(65, 4)\n",
      "(65, 4)\n",
      "(65, 4)\n",
      "(65, 4)\n",
      "(65, 4)\n",
      "(65, 4)\n",
      "(65, 4)\n",
      "(65, 4)\n",
      "(65, 4)\n",
      "(65, 4)\n",
      "(65, 4)\n",
      "(65, 4)\n",
      "(65, 4)\n",
      "(65, 4)\n",
      "(65, 4)\n",
      "(64, 4)\n",
      "(64, 4)\n",
      "(64, 4)\n",
      "(64, 4)\n",
      "(64, 4)\n",
      "(64, 4)\n",
      "(64, 4)\n",
      "components: ['component_0', 'component_1', 'component_2']\n"
     ]
    },
    {
     "data": {
      "text/plain": [
       "['component_0', 'component_1', 'component_2']"
      ]
     },
     "execution_count": 33,
     "metadata": {},
     "output_type": "execute_result"
    }
   ],
   "source": [
    "replace_features(predictor, df_test, colums_for_pca)"
   ]
  },
  {
   "cell_type": "code",
   "execution_count": 34,
   "metadata": {},
   "outputs": [
    {
     "data": {
      "text/plain": [
       "['count',\n",
       " 'season',\n",
       " 'holiday',\n",
       " 'workingday',\n",
       " 'weather',\n",
       " 'year',\n",
       " 'month',\n",
       " 'day',\n",
       " 'dayofweek',\n",
       " 'hour',\n",
       " 'component_0',\n",
       " 'component_1',\n",
       " 'component_2']"
      ]
     },
     "execution_count": 34,
     "metadata": {},
     "output_type": "execute_result"
    }
   ],
   "source": [
    "## \n",
    "\n",
    "for col in new_cols:\n",
    "    columns.append(col)\n",
    "columns"
   ]
  },
  {
   "cell_type": "markdown",
   "metadata": {},
   "source": [
    "\n",
    "## Training, Validation and Test Set\n",
    "### Target Variable as first column followed by input features\n",
    "### Training, Validation files do not have a column header"
   ]
  },
  {
   "cell_type": "code",
   "execution_count": 35,
   "metadata": {},
   "outputs": [],
   "source": [
    "# Training = 70% of the data\n",
    "# Validation = 30% of the data\n",
    "# Randomize the datset\n",
    "np.random.seed(5)\n",
    "l = list(df_train.index)\n",
    "np.random.shuffle(l)\n",
    "df_train = df_train.iloc[l]"
   ]
  },
  {
   "cell_type": "code",
   "execution_count": 36,
   "metadata": {},
   "outputs": [
    {
     "name": "stdout",
     "output_type": "stream",
     "text": [
      "10886 7620 3265\n"
     ]
    }
   ],
   "source": [
    "rows = df_train.shape[0]\n",
    "train = int(.7 * rows)\n",
    "test = int(.3 * rows)\n",
    "print(rows, train, test)"
   ]
  },
  {
   "cell_type": "code",
   "execution_count": 37,
   "metadata": {},
   "outputs": [],
   "source": [
    "# Write Training Set\n",
    "df_train[:train].to_csv('bike_train_pca_cloud.csv',\n",
    "                        index=False,\n",
    "                        header=False,\n",
    "                        columns=columns)\n",
    "# Write Validation Set\n",
    "df_train[train:].to_csv('bike_validation_pca_cloud.csv',\n",
    "                        index=False,\n",
    "                        header=False,\n",
    "                        columns=columns)\n",
    "\n",
    "# Test Data has only input features\n",
    "df_test.to_csv('bike_test_pca_cloud.csv',\n",
    "               index=False)"
   ]
  },
  {
   "cell_type": "code",
   "execution_count": 38,
   "metadata": {},
   "outputs": [],
   "source": [
    "# Write Column List\n",
    "with open('bike_train_column_list_pca_cloud.txt','w') as f:\n",
    "    f.write(','.join(columns))"
   ]
  },
  {
   "cell_type": "code",
   "execution_count": null,
   "metadata": {},
   "outputs": [],
   "source": []
  },
  {
   "cell_type": "code",
   "execution_count": null,
   "metadata": {},
   "outputs": [],
   "source": []
  },
  {
   "cell_type": "code",
   "execution_count": null,
   "metadata": {},
   "outputs": [],
   "source": []
  }
 ],
 "metadata": {
  "kernelspec": {
   "display_name": "conda_python3",
   "language": "python",
   "name": "conda_python3"
  },
  "language_info": {
   "codemirror_mode": {
    "name": "ipython",
    "version": 3
   },
   "file_extension": ".py",
   "mimetype": "text/x-python",
   "name": "python",
   "nbconvert_exporter": "python",
   "pygments_lexer": "ipython3",
   "version": "3.6.5"
  }
 },
 "nbformat": 4,
 "nbformat_minor": 2
}
